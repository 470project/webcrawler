{
 "cells": [
  {
   "cell_type": "markdown",
   "metadata": {},
   "source": [
    "## Load Data"
   ]
  },
  {
   "cell_type": "code",
   "execution_count": 17,
   "metadata": {},
   "outputs": [
    {
     "name": "stdout",
     "output_type": "stream",
     "text": [
      "1699 0 42915 1514\n"
     ]
    }
   ],
   "source": [
    "import json\n",
    "import string\n",
    "import matplotlib.pyplot as plt \n",
    "import json_lines\n",
    "import itertools\n",
    "\n",
    "with open('result.jl', 'rb') as f:\n",
    "    entities = [x for x in json_lines.reader(f)]\n",
    "    stories = [x for x in entities if str(x['pageType']) == \"story\" and str(x['storyType']) == '/book/Harry-Potter/']\n",
    "    storiesNotPotter = [x for x in entities if str(x['pageType']) == \"story\" and str(x['storyType']) != '/book/Harry-Potter/']\n",
    "    reviews = [x for x in entities if str(x['pageType']) == \"review\"]\n",
    "    users = [x for x in entities if str(x['pageType']) == \"user\"]\n",
    "    \n",
    "    print(len(stories),len(storiesNotPotter),len(reviews),len(users))"
   ]
  },
  {
   "cell_type": "markdown",
   "metadata": {},
   "source": [
    "## Display Sentiment chart"
   ]
  },
  {
   "cell_type": "code",
   "execution_count": 18,
   "metadata": {},
   "outputs": [
    {
     "data": {
      "text/plain": [
       "[<matplotlib.lines.Line2D at 0x1d0e350a080>]"
      ]
     },
     "execution_count": 18,
     "metadata": {},
     "output_type": "execute_result"
    },
    {
     "data": {
      "image/png": "[encoded data removed]",
      "text/plain": [
       "<Figure size 432x288 with 1 Axes>"
      ]
     },
     "metadata": {},
     "output_type": "display_data"
    }
   ],
   "source": [
    "import operator\n",
    "storyReviewDic = {}\n",
    "for review in reviews:\n",
    "    if(review['reviewOf'] not in storyReviewDic):\n",
    "        storyReviewDic[review['reviewOf']] = []\n",
    "    storyReviewDic[review['reviewOf']].append(review)\n",
    "\n",
    "storySentimentScores = [sum([z['sentimentScore'] for z in y]) for x, y in storyReviewDic.items()]\n",
    "\n",
    "buckets = {}\n",
    "\n",
    "def updateBucket(x):\n",
    "    buckets.setdefault(x, 0)\n",
    "    buckets[x]+=1\n",
    "\n",
    "[ updateBucket(int(x)) for x in storySentimentScores]\n",
    "\n",
    "sortedBuckets = sorted(buckets.items(), key=operator.itemgetter(0))\n",
    "\n",
    "fig = plt.figure()\n",
    "ax = fig.add_subplot(2, 1, 1)\n",
    "ax.plot([x for x,y in sortedBuckets], [y for x,y in sortedBuckets], color='blue', lw=2)\n",
    "\n",
    "#print(sum(storySentimentScore)/ len(storySentimentScore))"
   ]
  },
  {
   "cell_type": "code",
   "execution_count": 19,
   "metadata": {},
   "outputs": [
    {
     "data": {
      "text/plain": [
       "9.692817547230216"
      ]
     },
     "execution_count": 19,
     "metadata": {},
     "output_type": "execute_result"
    }
   ],
   "source": [
    "sum(storySentimentScores)/len(storySentimentScores)"
   ]
  },
  {
   "cell_type": "markdown",
   "metadata": {},
   "source": [
    "## Do Sentiment Review Adjacency"
   ]
  },
  {
   "cell_type": "markdown",
   "metadata": {
    "heading_collapsed": true
   },
   "source": [
    "### Create Sentiment Adjacency Matrix"
   ]
  },
  {
   "cell_type": "code",
   "execution_count": 13,
   "metadata": {
    "hidden": true
   },
   "outputs": [],
   "source": [
    "import collections\n",
    "from collections import Counter\n",
    "\n",
    "#[dict(t) for t in {tuple(d.items()) for d in l}]\n",
    "allReviewsOf = [(x[\"reviewOf\"],x) for x in reviews][:10]\n",
    "#[dict(t) for t in {tuple() for x,y in allReviewsOff}]\n",
    "#storyToReview{x:y for x,y in allReviewsOff}\n",
    "\n",
    "storyNameToReview = {}\n",
    "\n",
    "for storyName, review in allReviewsOf:\n",
    "    if(storyName not in storyNameToReview):\n",
    "        storyNameToReview[storyName] = []\n",
    "    storyNameToReview[storyName]\n",
    "storyNameToReview = dict(storyNameToReview)"
   ]
  },
  {
   "cell_type": "markdown",
   "metadata": {
    "heading_collapsed": true
   },
   "source": [
    "## Create Adjacency Matrix"
   ]
  },
  {
   "cell_type": "code",
   "execution_count": 14,
   "metadata": {
    "hidden": true
   },
   "outputs": [],
   "source": [
    "import numpy as np\n",
    "idDict = {}\n",
    "idCnt = 0\n",
    "\n",
    "for x in users:\n",
    "    if(x['name'] in idDict):\n",
    "        continue;\n",
    "    idDict[idCnt] = x['name']\n",
    "    idCnt += 1\n",
    "\n",
    "nameToIdDict = {v: k for k, v in idDict.items()}\n",
    "\n",
    "userFavorites = {}\n",
    "for user in users:\n",
    "    userId = nameToIdDict[user['name']]\n",
    "    userFavorites[userId] = []\n",
    "    for favorite in user['favorites']:\n",
    "        auther = favorite['favAuthor']\n",
    "        if(auther in nameToIdDict):\n",
    "            autherId = nameToIdDict[auther]\n",
    "            if(autherId not in userFavorites[userId]):\n",
    "                userFavorites[userId].append(autherId)\n",
    "                \n",
    "matrix = np.zeros([len(idDict), len(idDict)])\n",
    "\n",
    "for userId, favorites in userFavorites.items():\n",
    "    matrix[userId, userId] = 1\n",
    "    for favId in favorites:\n",
    "        matrix[userId, favId] = 1"
   ]
  },
  {
   "cell_type": "markdown",
   "metadata": {
    "heading_collapsed": true
   },
   "source": [
    "## Try to get groups based on adjacency matrix"
   ]
  },
  {
   "cell_type": "code",
   "execution_count": 7,
   "metadata": {
    "hidden": true
   },
   "outputs": [
    {
     "data": {
      "text/plain": [
       "<Figure size 864x864 with 0 Axes>"
      ]
     },
     "metadata": {},
     "output_type": "display_data"
    }
   ],
   "source": [
    "from sklearn.cluster import KMeans\n",
    "from sklearn.datasets import make_blobs\n",
    "\n",
    "plt.figure(figsize=(12, 12))\n",
    "\n",
    "random_state = 345345\n",
    "pred = KMeans(n_clusters=5, random_state=random_state).fit_predict(matrix)\n",
    "\n",
    "i = 0\n",
    "clusters = {}\n",
    "def makeCombined(x):\n",
    "    global i\n",
    "    row = [i,x]\n",
    "    i += 1\n",
    "    return row\n",
    "\n",
    "usersWithCluster = [makeCombined(x) for x in pred]\n",
    "\n",
    "import collections\n",
    "\n",
    "clusters = collections.defaultdict(list)\n",
    "for x in usersWithCluster:\n",
    "    clusters[x[1]].append(x[0])\n",
    "clusters = dict(clusters)\n",
    "print([len(j) for i,j in clusters.items()])"
   ]
  },
  {
   "cell_type": "code",
   "execution_count": 9,
   "metadata": {
    "hidden": true
   },
   "outputs": [
    {
     "data": {
      "image/png": "[encoded data removed]",
      "text/plain": [
       "<Figure size 432x288 with 1 Axes>"
      ]
     },
     "metadata": {},
     "output_type": "display_data"
    }
   ],
   "source": [
    "import matplotlib.pyplot as plt\n",
    "import networkx as nx\n",
    "\n",
    "colors = ['r', 'b', 'y', 'g', 'c', 'black', 'm', 'orange', 'grey', '']\n",
    "\n",
    "def show_graph(adjacency_matrix):\n",
    "    rows, cols = np.where(adjacency_matrix == 1)\n",
    "    edges = zip(rows.tolist(), cols.tolist())\n",
    "    #print([x for x in edges])\n",
    "    gr = nx.Graph()\n",
    "    gr.add_edges_from(edges)\n",
    "    #gr[0][1]['color'] = 'color'\n",
    "    \n",
    "    #nx.draw(gr, node_size=1)\n",
    "    pos=nx.spring_layout(gr) \n",
    "    for i in range(5):\n",
    "        nx.draw_networkx_nodes(gr,pos,nodelist = clusters[i], node_size=1, node_color=colors[i])\n",
    "    #nx.draw_networkx_nodes(gr,pos,nodelist = clusters[1], node_size=1, node_color=colors[1])\n",
    "    \n",
    "    #nx.draw_networkx_edges(gr,pos,\n",
    "    #                   width=1,alpha=0.5,edge_color='r')\n",
    "    plt.show()\n",
    "    \n",
    "show_graph(matrix)\n"
   ]
  },
  {
   "cell_type": "code",
   "execution_count": 135,
   "metadata": {
    "hidden": true
   },
   "outputs": [
    {
     "data": {
      "image/png": "[encoded data removed]",
      "text/plain": [
       "<Figure size 432x288 with 1 Axes>"
      ]
     },
     "metadata": {},
     "output_type": "display_data"
    }
   ],
   "source": [
    "import matplotlib.pyplot as plt\n",
    "import networkx as nx\n",
    "\n",
    "def show_graph(adjacency_matrix):\n",
    "    rows, cols = np.where(adjacency_matrix == 1)\n",
    "    edges = zip(rows.tolist(), cols.tolist())\n",
    "    gr = nx.Graph()\n",
    "    gr.add_edges_from(edges)\n",
    "    \n",
    "    nx.draw(gr, node_size=1)\n",
    "    plt.show()\n",
    "    \n",
    "show_graph(matrix)"
   ]
  },
  {
   "cell_type": "code",
   "execution_count": null,
   "metadata": {
    "hidden": true
   },
   "outputs": [],
   "source": []
  },
  {
   "cell_type": "markdown",
   "metadata": {},
   "source": [
    "## Make Character Graph"
   ]
  },
  {
   "cell_type": "code",
   "execution_count": 20,
   "metadata": {},
   "outputs": [
    {
     "data": {
      "text/plain": [
       "[<matplotlib.lines.Line2D at 0x1d0e2fbcd30>]"
      ]
     },
     "execution_count": 20,
     "metadata": {},
     "output_type": "execute_result"
    },
    {
     "data": {
      "image/png": "[encoded data removed]",
      "text/plain": [
       "<Figure size 432x288 with 1 Axes>"
      ]
     },
     "metadata": {},
     "output_type": "display_data"
    }
   ],
   "source": [
    "import collections\n",
    "from collections import Counter\n",
    "characterFreqs = Counter({})\n",
    "for x in stories:\n",
    "    characterFreqs += Counter(x['characters'])\n",
    "characterFreqs = dict(characterFreqs)\n",
    "#print(characterFreqs)\n",
    "fig = plt.figure()\n",
    "ax = fig.add_subplot(2, 1, 1)\n",
    "ax.plot(sorted(characterFreqs.values(), reverse=True), color='blue', lw=2)"
   ]
  },
  {
   "cell_type": "markdown",
   "metadata": {},
   "source": [
    "## making character matrix "
   ]
  },
  {
   "cell_type": "markdown",
   "metadata": {},
   "source": [
    "### get character ids"
   ]
  },
  {
   "cell_type": "code",
   "execution_count": 21,
   "metadata": {},
   "outputs": [],
   "source": [
    "import collections\n",
    "from collections import Counter\n",
    "characterFreqs = Counter({})\n",
    "for x in stories:\n",
    "    characterFreqs += Counter(x['characters'])\n",
    "characterFreqs = dict(characterFreqs)\n",
    "charList = list(characterFreqs.keys())\n",
    "idToChar = {charList.index(x): x for x in charList}\n",
    "charToId = {x : charList.index(x) for x in charList}"
   ]
  },
  {
   "cell_type": "markdown",
   "metadata": {
    "heading_collapsed": true
   },
   "source": [
    "### make the matrix"
   ]
  },
  {
   "cell_type": "code",
   "execution_count": 63,
   "metadata": {
    "hidden": true
   },
   "outputs": [],
   "source": [
    "import numpy as np\n",
    "from numpy import linalg as LA\n",
    "\n",
    "storyCharFreqMatrix = np.zeros([len(stories), len(charToId)])\n",
    "\n",
    "storyId = 0\n",
    "for story in stories:\n",
    "    totalCharFreq = 0\n",
    "    chars = dict(story['characters'])\n",
    "    for char, freq in chars.items():\n",
    "    #    if(char != 'Harry Potter' and char != 'Ron weasley'):\n",
    "        totalCharFreq += freq\n",
    "    for char, freq in chars.items():\n",
    "    #    if(char != 'Harry Potter' and char != 'Ron weasley'):\n",
    "        storyCharFreqMatrix[storyId][charToId[char]] = freq\n",
    "        #else:\n",
    "        #    matrix[storyId][charToId[char]] = 0\n",
    "    storyId += 1\n",
    "storyCharFreqMatrix = (storyCharFreqMatrix / storyCharFreqMatrix.sum())\n"
   ]
  },
  {
   "cell_type": "markdown",
   "metadata": {
    "heading_collapsed": true
   },
   "source": [
    "### cluster it"
   ]
  },
  {
   "cell_type": "code",
   "execution_count": 197,
   "metadata": {
    "hidden": true
   },
   "outputs": [],
   "source": [
    "import time\n",
    "from sklearn.cluster import KMeans\n",
    "from sklearn.datasets import make_blobs\n",
    "\n",
    "random_state = int(time.time())\n",
    "pred = KMeans(n_clusters=20, random_state=random_state).fit_predict(matrix)"
   ]
  },
  {
   "cell_type": "code",
   "execution_count": 198,
   "metadata": {
    "hidden": true
   },
   "outputs": [],
   "source": [
    "i = 0\n",
    "clusters = {}\n",
    "def makeCombined(x):\n",
    "    global i\n",
    "    row = [i,x]\n",
    "    i += 1\n",
    "    return row\n",
    "\n",
    "storiesWithCluster = [makeCombined(x) for x in pred]\n",
    "#print(sotriesWithCluster)\n"
   ]
  },
  {
   "cell_type": "code",
   "execution_count": 203,
   "metadata": {
    "hidden": true
   },
   "outputs": [
    {
     "name": "stdout",
     "output_type": "stream",
     "text": [
      "[(9, 68), (0, 305), (2, 221), (17, 183), (4, 110), (7, 80), (1, 26), (19, 23), (13, 1117), (8, 30), (5, 5), (11, 7), (12, 4), (3, 3), (10, 5), (6, 7), (14, 6), (16, 1), (18, 1), (15, 1)]\n"
     ]
    }
   ],
   "source": [
    "import collections\n",
    "\n",
    "clusters = collections.defaultdict(list)\n",
    "for x in storiesWithCluster:\n",
    "    clusters[x[1]].append(x[0])\n",
    "clusters = dict(clusters)\n",
    "#print(clusters)\n",
    "print([(i,len(j)) for i,j in clusters.items()])"
   ]
  },
  {
   "cell_type": "code",
   "execution_count": 204,
   "metadata": {
    "hidden": true
   },
   "outputs": [
    {
     "name": "stdout",
     "output_type": "stream",
     "text": [
      "dict_keys([9, 0, 2, 17, 4, 7, 1, 19, 13, 8, 5, 11, 12, 3, 10, 6, 14, 16, 18, 15])\n",
      "9 [('Harry Potter', 35), ('Ron weasley', 9), ('Albus Dumbledore', 3), ('Voldemort', 3), ('Cho Chang', 3), ('Death', 2), ('Hermione Granger', 2), ('Ginny weasley', 2), ('Severus Snape', 2)]\n",
      "0 [('Harry Potter', 30), ('Ron weasley', 14), ('Hermione Granger', 9), ('Cho Chang', 5), ('Albus Dumbledore', 4), ('Severus Snape', 3), ('Voldemort', 3), ('Draco Malfoy', 2), ('Death', 2), ('Fat Friar', 2)]\n",
      "2 [('Ron weasley', 26), ('Cho Chang', 9), ('Fat Friar', 4), ('Death', 2), ('Michael Corner', 2), ('Hope Howell', 2), ('Dean Thomas', 2), ('Ben Cooper', 2), ('Severus Snape', 2)]\n",
      "17 [('Harry Potter', 37), ('Ron weasley', 11), ('Hermione Granger', 6), ('Cho Chang', 5), ('Albus Dumbledore', 4), ('Voldemort', 3), ('Death', 2), ('Severus Snape', 2), ('Remus Lupin', 2)]\n",
      "4 [('Harry Potter', 38), ('Ron weasley', 8), ('Cho Chang', 3), ('Hermione Granger', 3), ('Severus Snape', 3), ('Ginny weasley', 2), ('Voldemort', 2), ('Albus Dumbledore', 2)]\n",
      "7 [('Harry Potter', 20), ('Hermione Granger', 15), ('Ron weasley', 9), ('Cho Chang', 3), ('Albus Dumbledore', 2)]\n",
      "1 [('Harry Potter', 14), ('Hermione Granger', 8), ('Ron weasley', 4)]\n",
      "19 [('Harry Potter', 20), ('Ron weasley', 4), ('Cho Chang', 2)]\n",
      "13 [('Ron weasley', 26), ('Cho Chang', 18), ('Fat Friar', 10), ('Harry Potter', 6), ('Hope Howell', 5), ('Ben Cooper', 5), ('Death', 4), ('Jack Sloper', 3), ('Severus Snape', 3), ('Katie Bell', 3), ('Hermione Granger', 2), ('Mark Evans', 2), ('Sophie Roper', 2)]\n",
      "8 [('Ron weasley', 11)]\n",
      "5 [('Harry Potter', 6)]\n",
      "11 [('Newt Scamander', 3), ('Herman Wintringham', 3)]\n",
      "12 [('Harry Potter', 3), ('Severus Snape', 2)]\n",
      "3 [('Harry Potter', 6), ('Hermione Granger', 3), ('Ron weasley', 2)]\n",
      "10 [('Harry Potter', 6), ('Hermione Granger', 3)]\n",
      "6 [('Ron weasley', 8)]\n",
      "14 [('Harry Potter', 9), ('Ron weasley', 3)]\n",
      "16 [('Harry Potter', 2)]\n",
      "18 [('Harry Potter', 2)]\n",
      "15 []\n"
     ]
    }
   ],
   "source": [
    "def showCluster(clusterId):\n",
    "    clusterCharacterFreqs = Counter({})\n",
    "    for storyId in clusters[clusterId]:\n",
    "        charsInStory = np.where(matrix[storyId] > 0)\n",
    "        if(len(charsInStory[0]) == 0):\n",
    "            continue\n",
    "        for charId in np.nditer(charsInStory):\n",
    "            #print(matrix[storyId][charId], charId)\n",
    "            clusterCharacterFreqs[int(charId)] += matrix[storyId][charId]\n",
    "    clusterCharsWithFreq = [(x,y, idToChar[x])for x,y in clusterCharacterFreqs.items() if y > .002]\n",
    "    \n",
    "    return sorted(clusterCharsWithFreq, key= lambda x: x[1],reverse=True)\n",
    "\n",
    "print(clusters.keys())\n",
    "    \n",
    "for i in clusters.keys():\n",
    "    #print(len(clusters[i]))\n",
    "    print(i,[ (z,int(y*1000)) for x,y,z in showCluster(i)])"
   ]
  },
  {
   "cell_type": "code",
   "execution_count": 137,
   "metadata": {
    "hidden": true
   },
   "outputs": [
    {
     "data": {
      "image/png": "[encoded data removed]",
      "text/plain": [
       "<Figure size 720x720 with 1 Axes>"
      ]
     },
     "metadata": {},
     "output_type": "display_data"
    }
   ],
   "source": [
    "import matplotlib.pyplot as plt\n",
    "import networkx as nx\n",
    "\n",
    "colors = ['r', 'b', 'y', 'g', 'c', 'black', 'm', 'orange', 'grey', 'pink']\n",
    "\n",
    "def plotCharacters(charId1, charId2, clusters):\n",
    "    #print(charId1, charId2, clusters)\n",
    "    #print(clusters)\n",
    "    fig = plt.figure(figsize=[10,10])\n",
    "    ax = fig.add_subplot(1, 1, 1)\n",
    "    for clusterId, cluster in clusters.items():\n",
    "        X = []\n",
    "        Y = []\n",
    "        for storyId in cluster:\n",
    "            X.append(matrix[storyId][charId1])\n",
    "            Y.append(matrix[storyId][charId2])\n",
    "        ax.scatter(X,Y, color=colors[clusterId], s=.25)\n",
    "            \n",
    "plotCharacters(2,4, clusters)"
   ]
  },
  {
   "cell_type": "markdown",
   "metadata": {},
   "source": [
    "## LDA"
   ]
  },
  {
   "cell_type": "markdown",
   "metadata": {},
   "source": [
    "### Characters in Story"
   ]
  },
  {
   "cell_type": "markdown",
   "metadata": {},
   "source": [
    "#### make model"
   ]
  },
  {
   "cell_type": "code",
   "execution_count": 22,
   "metadata": {},
   "outputs": [],
   "source": [
    "def foldDict(chars):\n",
    "    charsMult = [(str(charToId[char]) + ' ') * freq for char, freq in chars.items()]\n",
    "    charsStr = ''\n",
    "    for charStr in charsMult:\n",
    "        charsStr += charStr\n",
    "    return charsStr\n",
    "\n",
    "charList = [ foldDict(story['characters']) for story in stories]"
   ]
  },
  {
   "cell_type": "code",
   "execution_count": 23,
   "metadata": {},
   "outputs": [
    {
     "name": "stdout",
     "output_type": "stream",
     "text": [
      "Loading dataset...\n",
      "Extracting tf features for LDA...\n",
      "Fitting LDA model ...\n"
     ]
    }
   ],
   "source": [
    "from __future__ import print_function\n",
    "\n",
    "from sklearn.feature_extraction.text import CountVectorizer\n",
    "from sklearn.decomposition import LatentDirichletAllocation\n",
    "\n",
    "n_features = 5000\n",
    "n_topics = 100\n",
    "n_top_words = 10\n",
    "\n",
    "print(\"Loading dataset...\")\n",
    "\n",
    "train = charList\n",
    "\n",
    "print(\"Extracting tf features for LDA...\")\n",
    "tf_vectorizer = CountVectorizer(max_df=0.8, min_df=10,\n",
    "                                max_features=n_features,\n",
    "                                stop_words='english')\n",
    "\n",
    "tf = tf_vectorizer.fit_transform(train)\n",
    "print(\"Fitting LDA model ...\")\n",
    "lda = LatentDirichletAllocation(n_components=n_topics, max_iter=20,\n",
    "                                learning_method='online',\n",
    "                                learning_offset=50.)\n",
    "\n",
    "ldaalloc = lda.fit(tf)"
   ]
  },
  {
   "cell_type": "code",
   "execution_count": 24,
   "metadata": {},
   "outputs": [
    {
     "name": "stdout",
     "output_type": "stream",
     "text": [
      "\n",
      "Topics in LDA model:\n",
      "\n",
      "Topic #0:\n",
      "Argus Filch | Peeves | Merlin | The Fat Lady | Parvati Patil | Quirinus Quirrell | Mirror of Erised | Whomping Willow | Crookshanks | Bob Hitchens\n",
      "\n",
      "\n",
      "Topic #1:\n",
      "Pansy Parkinson | Theodore Nott | Blaise Zabini | Ben Cooper | Gregory Goyle | Michael Corner | Sophie Roper | Rita Skeeter | Merlin | Lavender Brown\n",
      "\n",
      "\n",
      "Topic #2:\n",
      "Tobias Snape | Irma Pince | Cuthbert Binns | Marcus Flint | Irma Crabbe | Sophie Roper | Miles Bletchley | Ginny weasley | Dedalus Diggle | Alastor Moody\n",
      "\n",
      "\n",
      "Topic #3:\n",
      "Charlie Weasley | Nicolas Flamel | Bill Weasley | Sophie Roper | Amy Benson | Ben Cooper | Cuthbert Binns | Muriel Weasley | Louis Weasley | Verity\n",
      "\n",
      "\n",
      "Topic #4:\n",
      "Cedric Diggory | Marcus Flint | Amos Diggory | Hermione Granger | Ben Cooper | Merlin | Poppy Pomfrey | Rowan Khanna | Irma Crabbe | Irma Pince\n",
      "\n",
      "\n",
      "Topic #5:\n",
      "Orion Black | Morgana | Merlin | Rosmerta | James Potter | Gellert Grindlewald | Orla Quirke | Ignotus Peverell | Eloise Midgen | Igor Karkaroff\n",
      "\n",
      "\n",
      "Topic #6:\n",
      "Ginny weasley | Hermione Granger | Bill Weasley | Arthur Weasely | Ben Cooper | Merlin | Nymphadora Tonks | Rita Skeeter | Sophie Roper | Michael Corner\n",
      "\n",
      "\n",
      "Topic #7:\n",
      "Arthur Weasely | Florean Fortescue | Amelia Bones | Sirius Black | Dobby | Nymphadora Tonks | Amy Benson | Lavender Brown | Kreacher | Parvati Patil\n",
      "\n",
      "\n",
      "Topic #8:\n",
      "Elphias Doge | Armando Dippet | Ryan | Padma Patil | Marvolo Gaunt | Cedric Diggory | Eloise Midgen | Verity | Graham Montague | Abraxas Malfoy\n",
      "\n",
      "\n",
      "Topic #9:\n",
      "Sybill Trelawney | Madam Malkin | Dennis Creevey | Owen Cauldwell | Alecto Carrow | Marietta Edgecombe | Merope Gaunt | Thomas Riddle | Blaise Zabini | Remus Lupin\n",
      "\n",
      "\n",
      "Topic #10:\n",
      "Troy | Tom Riddle Jr. | Merlin | Rita Skeeter | Dementors | Lucy Weasley | Isla Black | Gideon Crumb | Viktor Krum | Jimmy Peakes\n",
      "\n",
      "\n",
      "Topic #11:\n",
      "Kingsley Shacklebolt | Sophie Roper | John Dawlish | Michael Corner | Charis Black | Merlin | Romilda Vane | Miles Bletchley | Severus Snape | Gellert Grindlewald\n",
      "\n",
      "\n",
      "Topic #12:\n",
      "Remus Lupin | Alice Longbottom | Hermione Granger | Merlin | Michael Corner | Bane | Severus Snape | Ben Cooper | Sirius Black | Minerva Mcgonagall\n",
      "\n",
      "\n",
      "Topic #13:\n",
      "Arabella Figg | Igor Karkaroff | Minerva Mcgonagall | Alecto Carrow | Herbert Burke | Rubeus Hagrid | Ben Cooper | Pomona Sprout | Walden Macnair | Travers\n",
      "\n",
      "\n",
      "Topic #14:\n",
      "Lavender Brown | Rufus Scrimgeour | Fenrir Greyback | Dirk Cresswell | Rita Skeeter | Parvati Patil | Sally-Anne Perkins | Merlin | Jimmy Peakes | John Dawlish\n",
      "\n",
      "\n",
      "Topic #15:\n",
      "George weasley | Fred weasley | Gilderoy Lockhart | Sophie Roper | Michael Corner | Colin Creevey | Merlin | Kevin Entwhistle | Rita Skeeter | Miles Bletchley\n",
      "\n",
      "\n",
      "Topic #16:\n",
      "Molly Weasley | George weasley | Fred weasley | Ginny weasley | Hermione Granger | Hedwig | Florean Fortescue | Gideon Crumb | Sophie Roper | Troy\n",
      "\n",
      "\n",
      "Topic #17:\n",
      "Owen Cauldwell | Pius Thicknesse | Seamus Finnigan | Charity Burbage | Tom Riddle Jr. | Graham Montague | Grawp | Ginny weasley | Kingsley Shacklebolt | Peeves\n",
      "\n",
      "\n",
      "Topic #18:\n",
      "Rufus Scrimgeour | Barnabas Cuffe | Dedalus Diggle | Fluffy | Alicia Spinnet | Sybill Trelawney | Penny Haywood | Rodolphus Lestrange | Walburga Black | George weasley\n",
      "\n",
      "\n",
      "Topic #19:\n",
      "Horace Slughorn | Ludo Bagman | Olympe Maxime | Albert Runcorn | Poppy Pomfrey | Irma Pince | Irma Crabbe | Theodore Nott | Savage | Hermione Granger\n",
      "\n",
      "\n",
      "Topic #20:\n",
      "Katie Bell | Alastor Moody | Hermione Granger | Dementors | Fred weasley | George weasley | Ginny weasley | Arthur Weasely | Ben Cooper | Nymphadora Tonks\n",
      "\n",
      "\n",
      "Topic #21:\n",
      "Marge Dursley | Muriel Weasley | Fleur Delacour | Rosmerta | Quirinus Quirrell | Travers | Nagini | Irma Crabbe | Septima Vector | Ariana Dumbledore\n",
      "\n",
      "\n",
      "Topic #22:\n",
      "Katie Bell | Antonin Dolohov | Ben Cooper | Rodolphus Lestrange | Rabastan Lestrange | Troy | Michael Corner | Merlin | Rita Skeeter | Ivan Volkov\n",
      "\n",
      "\n",
      "Topic #23:\n",
      "Hermione Granger | Lavender Brown | Rita Skeeter | Sophie Roper | Ben Cooper | Michael Corner | Merlin | Ginny weasley | Troy | Neville Longbottom\n",
      "\n",
      "\n",
      "Topic #24:\n",
      "Perenelle Flamel | Fay Dunbar | Rufus Scrimgeour | Isla Black | Frank Longbottom | Albus Severus Potter | Dilys Derwent | John Dawlish | Jimmy Peakes | Margot Droope\n",
      "\n",
      "\n",
      "Topic #25:\n",
      "Salazar Slytherin | Godric Gryffindor | Adrian Pucey | Helga Hufflepuff | Owen Cauldwell | Rowena Ravenclaw | Rita Skeeter | Stephen Cornfoot | Alice Longbottom | Sophie Roper\n",
      "\n",
      "\n",
      "Topic #26:\n",
      "Basilisk | Tom Riddle Jr. | Gellert Grindlewald | Myrtle | Ben Cooper | Rita Skeeter | Marvolo Gaunt | Angelica Cole | Merope Gaunt | Armando Dippet\n",
      "\n",
      "\n",
      "Topic #27:\n",
      "Peter Pettigrew | Petunia Dursley | Sophie Roper | Buckbeak | Rubeus Hagrid | Godric Gryffindor | Rita Skeeter | Merlin | Alice Longbottom | Hermione Granger\n",
      "\n",
      "\n",
      "Topic #28:\n",
      "Filius Flitwick | Dolores Umbridge | Pomona Sprout | Minerva Mcgonagall | Michael Corner | Nymphadora Tonks | Griselda Marchbanks | Marietta Edgecombe | Rolanda Hooch | Sybill Trelawney\n",
      "\n",
      "\n",
      "Topic #29:\n",
      "Ted Tonks | Dorea Black/Potter | Basilisk | Igor Karkaroff | Gideon Crumb | Romilda Vane | Credence Barebone | Hedwig | Barty Crouch Jr. | Graham Montague\n",
      "\n",
      "\n",
      "Topic #30:\n",
      "Aberforth Dumbledore | Gregory Goyle | Herbert Burke | Troy | Florean Fortescue | Alicia Spinnet | Angelina Johnson | Ariana Dumbledore | Gilderoy Lockhart | Antonin Dolohov\n",
      "\n",
      "\n",
      "Topic #31:\n",
      "Nigel Wolpert | Poppy Pomfrey | Millicent Bagnold | Xenophilius Lovegood | Sirius Black | Angelica Cole | Angelina Johnson | Grawp | Ginny weasley | Dementors\n",
      "\n",
      "\n",
      "Topic #32:\n",
      "Millicent Bulstrode | Kevin Entwhistle | Armando Dippet | Winky | Fawkes | Oliver Rivers | Mandy Brocklehurst | John Dawlish | Eloise Midgen | Dilys Derwent\n",
      "\n",
      "\n",
      "Topic #33:\n",
      "Aurora Sinistra | Molly Weasley | Louis Weasley | Rosmerta | Alice Longbottom | Tobias Snape | Astoria Greengrass | Gabrielle Delacour | Jacob | Fay Dunbar\n",
      "\n",
      "\n",
      "Topic #34:\n",
      "Jack Sloper | Nigel Wolpert | Phineas Nigellus | Elphias Doge | Harper | Rita Skeeter | The Fat Lady | Sirius Black | Oliver Wood | Michael Corner\n",
      "\n",
      "\n",
      "Topic #35:\n",
      "Margot Droope | Petunia Dursley | Gilderoy Lockhart | Arabella Figg | Scorpius Malfoy | Dean Thomas | Fluffy | Olympe Maxime | Fleur Delacour | Lucy Weasley\n",
      "\n",
      "\n",
      "Topic #36:\n",
      "Charlus Potter | Savage | Scorpius Malfoy | Gilderoy Lockhart | Jeremy Stretton | Thomas Riddle | Nicolas Flamel | Amy Benson | Bob Hitchens | Augusta Longbottom\n",
      "\n",
      "\n",
      "Topic #37:\n",
      "Pomona Sprout | John Dawlish | Peeves | Martha Steward | Fay Dunbar | Astoria Greengrass | Merlin | Eloise Midgen | Marlene Mckinnon | Marietta Edgecombe\n",
      "\n",
      "\n",
      "Topic #38:\n",
      "Astoria Greengrass | Gabrielle Delacour | Bill Weasley | Martha Steward | Terry Boot | Florean Fortescue | Garrick Ollivander | Cormac Mclaggen | Minerva Mcgonagall | Jeremy Stretton\n",
      "\n",
      "\n",
      "Topic #39:\n",
      "Susan Bones | Amelia Bones | Hermione Granger | Eloise Midgen | Minerva Mcgonagall | Ben Cooper | Gregory Goyle | Sirius Black | Cornelilus Fudge | Hannah Abbott\n",
      "\n",
      "\n",
      "Topic #40:\n",
      "Myrtle | Eloise Midgen | Fabian Prewett | Grawp | Charis Black | Bane | Marietta Edgecombe | Katie Bell | Flora Carrow | Walburga Black\n",
      "\n",
      "\n",
      "Topic #41:\n",
      "Marge Dursley | Sally-Anne Perkins | Dilys Derwent | Hedwig | John Dawlish | Griphook | Mundungus Fletcher | Orion Black | Seamus Finnigan | Aurora Sinistra\n",
      "\n",
      "\n",
      "Topic #42:\n",
      "Percy weasley | Fabian Prewett | Merlin | Hermione Granger | Rita Skeeter | Bill Weasley | Tom Riddle Jr. | Muriel Weasley | George weasley | Poppy Pomfrey\n",
      "\n",
      "\n",
      "Topic #43:\n",
      "Lucius Malfoy | Narcissa Malfoy | Andromeda Tonks | Rita Skeeter | Sophie Roper | Merlin | Ben Cooper | Michael Corner | Troy | Lucy Weasley\n",
      "\n",
      "\n",
      "Topic #44:\n",
      "Lee Jordan | Jacob | Rita Skeeter | Ben Cooper | Fang | Theodore Nott | Seamus Finnigan | Lavender Brown | Penelope Clearwater | Armando Dippet\n",
      "\n",
      "\n",
      "Topic #45:\n",
      "Rubeus Hagrid | Hedwig | Madam Malkin | Quirinus Quirrell | Hermione Granger | Fluffy | Ben Cooper | Fang | Sophie Roper | Crookshanks\n",
      "\n",
      "\n",
      "Topic #46:\n",
      "Morgana | Nigel Wolpert | Antonin Dolohov | Orion Black | Poppy Pomfrey | Pansy Parkinson | Gilderoy Lockhart | Sorting Hat | Severus Snape | Rita Skeeter\n",
      "\n",
      "\n",
      "Topic #47:\n",
      "Augusta Longbottom | Luna Lovegood | Megan Jones | Xenophilius Lovegood | Septima Vector | Pius Thicknesse | Scorpius Malfoy | Minerva Mcgonagall | Charlus Potter | Amy Benson\n",
      "\n",
      "\n",
      "Topic #48:\n",
      "Cuthbert Binns | Padma Patil | Fred weasley | Amos Diggory | Kevin Entwhistle | Verity | Irma Crabbe | Ben Cooper | Poppy Pomfrey | Walburga Black\n",
      "\n",
      "\n",
      "Topic #49:\n",
      "Hermione Granger | Hedwig | Lucius Malfoy | Peter Pettigrew | Amelia Bones | Cornelilus Fudge | Sirius Black | Ben Cooper | Martha Steward | Augusta Longbottom\n",
      "\n",
      "\n",
      "Topic #50:\n",
      "Marge Dursley | Seamus Finnigan | Fay Dunbar | Winky | Filius Flitwick | John Dawlish | Rufus Scrimgeour | Fabian Prewett | Tobias Snape | Alice Longbottom\n",
      "\n",
      "\n",
      "Topic #51:\n",
      "Fred weasley | Gilderoy Lockhart | George weasley | Sophie Roper | Kevin Entwhistle | Justin Finch-fletchley | Michael Corner | Filius Flitwick | Merlin | Hermione Granger\n",
      "\n",
      "\n",
      "Topic #52:\n",
      "Penny Haywood | Penelope Clearwater | Peter Pettigrew | Rosmerta | Buckbeak | Albert Runcorn | Newt Scamander | Pomona Sprout | Ivan Volkov | The Fat Lady\n",
      "\n",
      "\n",
      "Topic #53:\n",
      "Fawkes | Troy | Bob Hitchens | Nagini | Fang | Ben Cooper | Aberforth Dumbledore | Merlin | Michael Corner | Sophie Roper\n",
      "\n",
      "\n",
      "Topic #54:\n",
      "Fluffy | Armando Dippet | Credence Barebone | Jack Sloper | Fenrir Greyback | Florean Fortescue | Marvolo Gaunt | Irma Crabbe | Theodore Nott | Ludo Bagman\n",
      "\n",
      "\n",
      "Topic #55:\n",
      "Trevor | Aurora Sinistra | Harper | Avery | Louis Weasley | Piers Polkiss | Winky | Hedwig | Blaise Zabini | Orla Quirke\n",
      "\n",
      "\n",
      "Topic #56:\n",
      "Walburga Black | Angelina Johnson | Irma Crabbe | Ignotus Peverell | Amos Diggory | Cuthbert Binns | Garrick Ollivander | Orla Quirke | Rufus Scrimgeour | Sirius Black\n",
      "\n",
      "\n",
      "Topic #57:\n",
      "Neville Longbottom | Alice Longbottom | Sophie Roper | Michael Corner | Troy | Trevor | Pomona Sprout | Sirius Black | Frank Longbottom | Gideon Crumb\n",
      "\n",
      "\n",
      "Topic #58:\n",
      "Evan Rosier | James Potter | Lily Evans Potter | Severus Snape | Avery | Mulciber | Ben Cooper | Marietta Edgecombe | Sirius Black | Sorting Hat\n",
      "\n",
      "\n",
      "Topic #59:\n",
      "Thomas Riddle | Terry Boot | Fawkes | Phineas Nigellus | Amos Diggory | Anthony Goldstein | Justin Finch-fletchley | Irma Crabbe | Trevor | Alastor Moody\n",
      "\n",
      "\n",
      "Topic #60:\n",
      "Rosmerta | Barty Crouch Jr. | Gellert Grindlewald | Eupraxia Mole | Narcissa Malfoy | Edgar Bones | Eloise Midgen | Albert Runcorn | Bane | James Potter\n",
      "\n",
      "\n",
      "Topic #61:\n",
      "Gregory Goyle | Molly Weasley | Angelica Cole | Igor Karkaroff | Tracey Davis | Vincent Crabbe | Orion Black | Jimmy Peakes | Remus Lupin | Aberforth Dumbledore\n",
      "\n",
      "\n",
      "Topic #62:\n",
      "Zacharias Smith | Dolores Umbridge | Angelica Cole | Whomping Willow | Phineas Nigellus | Viktor Krum | Penelope Clearwater | Dilys Derwent | Neville Longbottom | Xenophilius Lovegood\n",
      "\n",
      "\n",
      "Topic #63:\n",
      "Alastor Moody | Katie Bell | Hermione Granger | Ginny weasley | Dementors | Fred weasley | George weasley | Arthur Weasely | Ben Cooper | Fleur Delacour\n",
      "\n",
      "\n",
      "Topic #64:\n",
      "Florean Fortescue | Charis Black | Fabian Prewett | Merlin | Jack Sloper | Sirius Black | Winky | Marcus Flint | Dorea Black/Potter | Tracey Davis\n",
      "\n",
      "\n",
      "Topic #65:\n",
      "Dobby | Teddy Lupin | Hermione Granger | Winky | Rita Skeeter | Jason Samuels | Victoire Weasley | Isla Black | Michael Corner | Lavender Brown\n",
      "\n",
      "\n",
      "Topic #66:\n",
      "Katie Bell | Rita Skeeter | Michael Corner | Dementors | Cornelilus Fudge | Severus Snape | James Potter | Lucius Malfoy | Hermione Granger | Sophie Roper\n",
      "\n",
      "\n",
      "Topic #67:\n",
      "Bill Weasley | Fleur Delacour | Gabrielle Delacour | Hermione Granger | Isla Black | Rita Skeeter | Ben Cooper | Sophie Roper | Ginny weasley | Michael Corner\n",
      "\n",
      "\n",
      "Topic #68:\n",
      "Adrian Pucey | Aragog | AndrewKirke | Madam Malkin | Vincent Crabbe | Luna Lovegood | Abraxas Malfoy | Rosmerta | Flora Carrow | Gideon Crumb\n",
      "\n",
      "\n",
      "Topic #69:\n",
      "Hannah Abbott | Justin Finch-fletchley | Susan Bones | Sorting Hat | Colin Creevey | Zacharias Smith | Hermione Granger | Millicent Bulstrode | Ernie Macmillan | Isla Black\n",
      "\n",
      "\n",
      "Topic #70:\n",
      "Sirius Black | Vincent Crabbe | Filius Flitwick | Rowan Khanna | Sybill Trelawney | Salazar Slytherin | Eloise Midgen | Muriel Weasley | Merlin | Megan Jones\n",
      "\n",
      "\n",
      "Topic #71:\n",
      "Minerva Mcgonagall | Poppy Pomfrey | Irma Pince | Ivan Volkov | Garrick Ollivander | Quirinus Quirrell | Irma Crabbe | Rita Skeeter | Griphook | Sophie Roper\n",
      "\n",
      "\n",
      "Topic #72:\n",
      "Regulus Black | Kreacher | Arcturus Black | Walburga Black | Troy | Ben Cooper | Michael Corner | Merlin | James Potter | Andromeda Tonks\n",
      "\n",
      "\n",
      "Topic #73:\n",
      "Theodore Nott | Alice Longbottom | Louis Weasley | Evan Rosier | Dennis Creevey | Poppy Pomfrey | Dean Thomas | Peter Pettigrew | Crookshanks | Dilys Derwent\n",
      "\n",
      "\n",
      "Topic #74:\n",
      "Severus Snape | Ben Cooper | Hermione Granger | Rita Skeeter | Poppy Pomfrey | Minerva Mcgonagall | Michael Corner | Sophie Roper | Merlin | James Potter\n",
      "\n",
      "\n",
      "Topic #75:\n",
      "Cormac Mclaggen | Alecto Carrow | Katie Bell | Charity Burbage | Margot Droope | Basilisk | Dorea Black/Potter | Tobias Snape | Megan Jones | Orion Black\n",
      "\n",
      "\n",
      "Topic #76:\n",
      "Dudley Dursley | Piers Polkiss | Marge Dursley | Petunia Dursley | Michael Corner | Ben Cooper | Vernon Dursley | Sophie Roper | Theodore Nott | James Potter\n",
      "\n",
      "\n",
      "Topic #77:\n",
      "Marvolo Gaunt | Fluffy | Pansy Parkinson | Katie Bell | Perenelle Flamel | Marlene Mckinnon | Ernie Macmillan | Percy weasley | Stan Shunpike | Giant Squid\n",
      "\n",
      "\n",
      "Topic #78:\n",
      "Horace Slughorn | Ritchie Coote | Armando Dippet | Helga Hufflepuff | Dementors | Martha Steward | Augustus Rookwood | Hedwig | Arcturus Black | James Potter\n",
      "\n",
      "\n",
      "Topic #79:\n",
      "Sybill Trelawney | Ariana Dumbledore | Aurora Sinistra | Perenelle Flamel | Sally-Anne Perkins | Ignotus Peverell | Charlus Potter | Ben Cooper | Mirror of Erised | Henry Potter\n",
      "\n",
      "\n",
      "Topic #80:\n",
      "Zacharias Smith | Flora Carrow | Armando Dippet | Marcus Flint | Astoria Greengrass | Dudley Dursley | Griselda Marchbanks | Charis Black | Margot Droope | Myrtle\n",
      "\n",
      "\n",
      "Topic #81:\n",
      "Dean Thomas | Thomas Riddle | Terry Boot | Lavender Brown | Anthony Goldstein | Michael Corner | Lisa Turpin | Mandy Brocklehurst | Parvati Patil | Cuthbert Binns\n",
      "\n",
      "\n",
      "Topic #82:\n",
      "Newt Scamander | Antonin Dolohov | Ryan | Augusta Longbottom | Lisa Turpin | Cornelilus Fudge | Merlin | Astoria Greengrass | Albert Runcorn | Morgana\n",
      "\n",
      "\n",
      "Topic #83:\n",
      "Gabrielle Delacour | Augustus Rookwood | Filius Flitwick | Charlus Potter | Arthur Weasely | Teddy Lupin | Isla Black | Marge Dursley | George weasley | Jimmy Peakes\n",
      "\n",
      "\n",
      "Topic #84:\n",
      "Cornelilus Fudge | Rita Skeeter | Dementors | Sirius Black | Dolores Umbridge | Sophie Roper | Yaxley | Walden Macnair | Ben Cooper | Lucius Malfoy\n",
      "\n",
      "\n",
      "Topic #85:\n",
      "Alastor Moody | Rita Skeeter | Dementors | Troy | Hermione Granger | Katie Bell | Miles Bletchley | Theodore Nott | Isla Black | Elphias Doge\n",
      "\n",
      "\n",
      "Topic #86:\n",
      "Tracey Davis | Padma Patil | Parvati Patil | Astoria Greengrass | Hermione Granger | Rita Skeeter | Troy | Sophie Roper | Rubeus Hagrid | Miles Bletchley\n",
      "\n",
      "\n",
      "Topic #87:\n",
      "Vernon Dursley | Petunia Dursley | Dudley Dursley | Sophie Roper | Ben Cooper | Marge Dursley | Rita Skeeter | Katie Bell | Michael Corner | Miles Bletchley\n",
      "\n",
      "\n",
      "Topic #88:\n",
      "Walburga Black | Sybill Trelawney | Percy weasley | Cornelilus Fudge | Winky | Filius Flitwick | Madam Malkin | Luna Lovegood | Martha Steward | Barnabas Cuffe\n",
      "\n",
      "\n",
      "Topic #89:\n",
      "Quirinus Quirrell | Igor Karkaroff | Vincent Crabbe | Edgar Bones | Dementors | Ginny weasley | Bob Hitchens | Luna Lovegood | Arcturus Black | Albus Severus Potter\n",
      "\n",
      "\n",
      "Topic #90:\n",
      "Newt Scamander | Lavender Brown | Jacob | Florean Fortescue | Amy Benson | Rita Skeeter | Lee Jordan | Ben Cooper | Fang | Theodore Nott\n",
      "\n",
      "\n",
      "Topic #91:\n",
      "Peter Pettigrew | Dementors | Sirius Black | Marvolo Gaunt | Rita Skeeter | Troy | Remus Lupin | James Potter | Alice Longbottom | Buckbeak\n",
      "\n",
      "\n",
      "Topic #92:\n",
      "Jason Samuels | Giant Squid | Pansy Parkinson | Verity | Winky | Walden Macnair | Grawp | Dedalus Diggle | Remus Lupin | Hannah Abbott\n",
      "\n",
      "\n",
      "Topic #93:\n",
      "Angelina Johnson | Alicia Spinnet | Charity Burbage | Martha Steward | Minerva Mcgonagall | James Potter | AndrewKirke | Gregory Goyle | Fay Dunbar | Rita Skeeter\n",
      "\n",
      "\n",
      "Topic #94:\n",
      "Viktor Krum | Fleur Delacour | Igor Karkaroff | Olympe Maxime | Rita Skeeter | Graham Montague | Poppy Pomfrey | Dementors | Hermione Granger | Michael Corner\n",
      "\n",
      "\n",
      "Topic #95:\n",
      "Helga Hufflepuff | Minerva Mcgonagall | Buckbeak | Savage | Florean Fortescue | Verity | Andromeda Tonks | Marlene Mckinnon | Teddy Lupin | Kingsley Shacklebolt\n",
      "\n",
      "\n",
      "Topic #96:\n",
      "Helga Hufflepuff | Oliver Wood | Louis Weasley | Xenophilius Lovegood | Alice Longbottom | Albus Severus Potter | Ernie Macmillan | Amy Benson | Phineas Nigellus | Nigel Wolpert\n",
      "\n",
      "\n",
      "Topic #97:\n",
      "Hermione Granger | Amelia Bones | Ginny weasley | Arthur Weasely | Minerva Mcgonagall | George weasley | Rita Skeeter | Fred weasley | Ben Cooper | Susan Bones\n",
      "\n",
      "\n",
      "Topic #98:\n",
      "Whomping Willow | Walden Macnair | Alecto Carrow | Grawp | Merlin | Millicent Bulstrode | Scorpius Malfoy | Stephen Cornfoot | Angelina Johnson | Ignotus Peverell\n",
      "\n",
      "\n",
      "Topic #99:\n",
      "Oliver Wood | Sophie Roper | Ryan | Bane | Jeremy Stretton | Fang | Trevor | Oliver Rivers | Cormac Mclaggen | Louis Weasley\n",
      "\n"
     ]
    }
   ],
   "source": [
    "def print_top_words(model, feature_names, n_top_words):\n",
    "    for topic_idx, topic in enumerate(model.components_):\n",
    "        print(\"\\nTopic #%d:\" % topic_idx)\n",
    "        #print([topic[x] for x in topic.argsort()[:-n_top_words - 1:-1]])\n",
    "        print(\" | \".join([idToChar[int(feature_names[i])]\n",
    "                        for i in topic.argsort()[:-n_top_words - 1:-1]]))\n",
    "        #print(len(topic))\n",
    "        print()\n",
    "\n",
    "print(\"\\nTopics in LDA model:\")\n",
    "tf_feature_names = tf_vectorizer.get_feature_names()\n",
    "print_top_words(lda, tf_feature_names, n_top_words)\n",
    "#print(sorted([int(x) for x in tf_feature_names]))"
   ]
  },
  {
   "cell_type": "markdown",
   "metadata": {},
   "source": [
    "#### Make Document Topic Matrix"
   ]
  },
  {
   "cell_type": "code",
   "execution_count": 25,
   "metadata": {},
   "outputs": [],
   "source": [
    "import numpy as np\n",
    "#for topic_idx, topic in enumerate(model.components_):\n",
    "def buildMatrix(model, num_topics, feature_names):\n",
    "    matrix = np.zeros([num_topics, len(feature_names)])\n",
    "    for topic_idx, topic in enumerate(model.components_):\n",
    "        matrix[topic_idx] = np.array(topic)\n",
    "        #print(topic)\n",
    "    return matrix\n",
    "\n",
    "LDATopicMatrix = np.transpose(buildMatrix(lda, n_topics, tf_feature_names))"
   ]
  },
  {
   "cell_type": "code",
   "execution_count": 33,
   "metadata": {},
   "outputs": [],
   "source": [
    "charIdToFeatureId = {}\n",
    "featureIdToCharId = {}\n",
    "\n",
    "featureId = 0\n",
    "\n",
    "for charId in tf_feature_names:\n",
    "    #print(featureId,charId, idToChar[int(charId)])\n",
    "    charId = int(charId)\n",
    "    charIdToFeatureId[charId] = featureId\n",
    "    featureIdToCharId[featureId] = charId\n",
    "    featureId += 1\n",
    "\n",
    "def convertCharDicToFeatureVec(story, feature_names):\n",
    "    totalCharFreq = 0\n",
    "    featureVec = np.zeros((len(feature_names)))\n",
    "    chars = dict(story['characters'])\n",
    "    for char, freq in chars.items():\n",
    "        totalCharFreq += freq\n",
    "    for char, freq in chars.items():\n",
    "        if(charToId[char] in charIdToFeatureId):\n",
    "            featureId = charIdToFeatureId[charToId[char]]\n",
    "            featureVec[featureId] = freq\n",
    "    return featureVec\n",
    "    \n",
    "def buildDocCharacterMatrix(feature_names):\n",
    "    matrix = np.zeros([len(stories), len(feature_names)])\n",
    "    #print(len(feature_names), len(charToId))\n",
    "    \n",
    "    storyId = 0\n",
    "    for story in stories:\n",
    "        matrix[storyId] = convertCharDicToFeatureVec(story, feature_names)\n",
    "        storyId += 1\n",
    "    #matrix = (matrix / matrix.sum())\n",
    "    return matrix;\n",
    "    \n",
    "\n",
    "docCharMatrix = buildDocCharacterMatrix(tf_feature_names)"
   ]
  },
  {
   "cell_type": "code",
   "execution_count": 34,
   "metadata": {},
   "outputs": [
    {
     "name": "stdout",
     "output_type": "stream",
     "text": [
      "1699 238\n",
      "238 100\n",
      "Counter({23: 849, 74: 383, 87: 61, 12: 53, 0: 49, 6: 39, 22: 30, 71: 20, 1: 18, 45: 17, 26: 17, 57: 16, 43: 15, 15: 11, 76: 11, 91: 10, 53: 9, 39: 9, 84: 8, 58: 8, 25: 7, 67: 7, 85: 7, 4: 6, 5: 4, 14: 4, 99: 4, 81: 4, 90: 3, 79: 3, 72: 3, 86: 2, 65: 2, 69: 2, 7: 2, 34: 1, 94: 1, 28: 1, 47: 1, 44: 1, 3: 1})\n"
     ]
    }
   ],
   "source": [
    "import collections\n",
    "from collections import Counter\n",
    "topcFreq = Counter({})\n",
    "\n",
    "print(len(docCharMatrix),len(docCharMatrix[0]))\n",
    "print(len(LDATopicMatrix),len(LDATopicMatrix[0]))\n",
    "storyTopicScores = np.matmul(docCharMatrix, LDATopicMatrix)\n",
    "predictedTopics = [storyTopicScores[i].argmax() for i in range(len(storyTopicScores))]\n",
    "#print(predictedTopics)\n",
    "\n",
    "for topic in predictedTopics:\n",
    "    topcFreq[topic] += 1\n",
    "print(topcFreq)"
   ]
  },
  {
   "cell_type": "code",
   "execution_count": 40,
   "metadata": {},
   "outputs": [],
   "source": [
    "def magnitude(vec):\n",
    "    return np.linalg.norm(vec)\n",
    "\n",
    "def cosine(storyVec, TopicVec):\n",
    "    ANorm = magnitude(storyVec)\n",
    "    BNorm = magnitude(TopicVec)\n",
    "    dot = np.dot(storyVec, TopicVec)\n",
    "    return (dot / (ANorm*BNorm))"
   ]
  },
  {
   "cell_type": "code",
   "execution_count": 60,
   "metadata": {},
   "outputs": [],
   "source": [
    "import scipy\n",
    "\n",
    "def getTopTopicsForStory(story, TopicMatrix, featureNamesList):\n",
    "    storyFeatureVec = convertCharDicToFeatureVec(story, featureNamesList)\n",
    "    predictedTopicScores = np.zeros(len(TopicMatrix[0]))\n",
    "    \n",
    "    for i in range(len(TopicMatrix[0])):\n",
    "        topicVec = TopicMatrix[:,i]\n",
    "        predictedTopicScores[i] = cosine(storyFeatureVec, topicVec)\n",
    "    \n",
    "    bestTopic = predictedTopicScores.argmax()\n",
    "    bestTopicScore = predictedTopicScores[bestTopic]\n",
    "    \n",
    "    return (bestTopic, bestTopicScore)\n",
    "    #print(np.dot(storyFeatureVec, topicVec))\n",
    "    #return \n",
    "\n",
    "story = stories[0]\n",
    "getTopTopicsForStory(story, LDATopicMatrix, tf_feature_names)"
   ]
  },
  {
   "cell_type": "markdown",
   "metadata": {
    "heading_collapsed": true
   },
   "source": [
    "### Do Story Text"
   ]
  },
  {
   "cell_type": "code",
   "execution_count": 69,
   "metadata": {
    "hidden": true
   },
   "outputs": [],
   "source": [
    "storiesText = [x['abstract'] for x in stories]"
   ]
  },
  {
   "cell_type": "code",
   "execution_count": 70,
   "metadata": {
    "hidden": true
   },
   "outputs": [
    {
     "name": "stdout",
     "output_type": "stream",
     "text": [
      "Loading dataset...\n",
      "Extracting tf features for LDA...\n",
      "Fitting LDA model ...\n",
      "\n",
      "Topics in LDA model:\n",
      "\n",
      "Topic #0:\n",
      "year hermione hogwarts story time au ron decides voldemort years\n",
      "\n",
      "Topic #1:\n",
      "weasley secrets chamber fawkes diary chapters day hermione finally late\n",
      "\n",
      "Topic #2:\n",
      "draco really love got person malfoy hermione point mate parents\n",
      "\n",
      "Topic #3:\n",
      "friends place complete family year change like summer events hermione\n",
      "\n",
      "Topic #4:\n",
      "discovers deal lot daphne plan triwizard unexpected potter goblet umbridge\n",
      "\n",
      "Topic #5:\n",
      "dark hp little dumbledore lord hogwarts death set just hermione\n",
      "\n",
      "Topic #6:\n",
      "luna battle final come day way help tom dear adopted\n",
      "\n",
      "Topic #7:\n",
      "reviews saving voldemort ron leave discovers hogwarts tries training took\n",
      "\n",
      "Topic #8:\n",
      "sirius black ootp fight death dimension able au forever avoid\n",
      "\n",
      "Topic #9:\n",
      "life make finds gets changes potter slash shot home summer\n",
      "\n",
      "Topic #10:\n",
      "things potter world past magical don chance change didn war\n",
      "\n",
      "Topic #11:\n",
      "time travel future bond fic bonds power soul voldemort order\n",
      "\n",
      "Topic #12:\n",
      "destiny tournament wizard set tri safe free night wizards kill\n",
      "\n",
      "Topic #13:\n",
      "world potter new voldemort wizarding au war old dark lord\n",
      "\n",
      "Topic #14:\n",
      "save future bellatrix change abuse opportunity past results dark young\n",
      "\n",
      "Topic #15:\n",
      "problem hero mind mod dumbledore wasn tried bashing au deal\n",
      "\n",
      "Topic #16:\n",
      "little live reason die girl like fem potter body eventual\n",
      "\n",
      "Topic #17:\n",
      "death green souls life chance au second world end dead\n",
      "\n",
      "Topic #18:\n",
      "makes just life learns death lives exactly year ends different\n",
      "\n",
      "Topic #19:\n",
      "snape severus story does complete albus dumbledore potter sequel minerva\n",
      "\n"
     ]
    }
   ],
   "source": [
    "from __future__ import print_function\n",
    "\n",
    "from sklearn.feature_extraction.text import CountVectorizer\n",
    "from sklearn.decomposition import LatentDirichletAllocation\n",
    "\n",
    "n_features = 5000\n",
    "n_topics = 20\n",
    "n_top_words = 10\n",
    "\n",
    "def print_top_words(model, feature_names, n_top_words):\n",
    "    for topic_idx, topic in enumerate(model.components_):\n",
    "        print(\"\\nTopic #%d:\" % topic_idx)\n",
    "        print(\" \".join([feature_names[i]\n",
    "                        for i in topic.argsort()[:-n_top_words - 1:-1]]))\n",
    "    print()\n",
    "\n",
    "print(\"Loading dataset...\")\n",
    "\n",
    "train = storiesText\n",
    "\n",
    "print(\"Extracting tf features for LDA...\")\n",
    "tf_vectorizer = CountVectorizer(max_df=0.7, min_df=10,\n",
    "                                max_features=n_features,\n",
    "                                stop_words='english')\n",
    "#tf_vectorizer = CountVectorizer(max_features=n_features)\n",
    "\n",
    "\n",
    "tf = tf_vectorizer.fit_transform(train)\n",
    "print(\"Fitting LDA model ...\")\n",
    "lda = LatentDirichletAllocation(n_components=n_topics, max_iter=20,\n",
    "                                learning_method='online',\n",
    "                                learning_offset=50.)\n",
    "\n",
    "lda.fit(tf)\n",
    "\n",
    "print(\"\\nTopics in LDA model:\")\n",
    "tf_feature_names = tf_vectorizer.get_feature_names()\n",
    "print_top_words(lda, tf_feature_names, n_top_words)"
   ]
  },
  {
   "cell_type": "markdown",
   "metadata": {
    "heading_collapsed": true
   },
   "source": [
    "### Do Review Text"
   ]
  },
  {
   "cell_type": "code",
   "execution_count": 65,
   "metadata": {
    "hidden": true
   },
   "outputs": [],
   "source": [
    "\n",
    "\n",
    "storiesDict = {x['storyLink'] : x for x in stories}\n",
    "\n",
    "#print(len(reviewsText))\n",
    "#print(len[x for x in reviews[:110]])\n",
    "#print(len())\n",
    "harryPotterReviews = [x for x in reviews if x['reviewOf'] in storiesDict]\n",
    "reviewsText = [x['reviewBody'] for x in harryPotterReviews]\n",
    "#and storiesDict[x['reviewOf']]['storyType']] == '/book/Harry-Potter/'\n",
    "#print([x['storyLink'] for x in stories[:1]])"
   ]
  },
  {
   "cell_type": "code",
   "execution_count": 68,
   "metadata": {
    "hidden": true
   },
   "outputs": [
    {
     "name": "stdout",
     "output_type": "stream",
     "text": [
      "Loading dataset...\n",
      "Extracting tf features for LDA...\n",
      "Fitting LDA model ...\n",
      "\n",
      "Topics in LDA model:\n",
      "\n",
      "Topic #0:\n",
      "story read like really im just love thanks writing ive\n",
      "\n",
      "Topic #1:\n",
      "love oh dumbledore voldemort youre stop death sirius right harrys\n",
      "\n",
      "Topic #2:\n",
      "nice chapter cute lol damn new far got fanfic thats\n",
      "\n",
      "Topic #3:\n",
      "harry hermione like ron think draco way liked know things\n",
      "\n",
      "Topic #4:\n",
      "update great soon hope family chapter hello going magic story\n",
      "\n",
      "Topic #5:\n",
      "finish come end years wait ending need read good leave\n",
      "\n",
      "Topic #6:\n",
      "read interesting wow fic continue thing reread reading potter definitely\n",
      "\n",
      "Topic #7:\n",
      "good just did sad brilliant poor getting thats snape chapter\n",
      "\n",
      "Topic #8:\n",
      "story loved excellent continue great really quite hope let dont\n",
      "\n",
      "Topic #9:\n",
      "thank writing stories awesome work didnt think lot amazing beautiful\n",
      "\n"
     ]
    }
   ],
   "source": [
    "from __future__ import print_function\n",
    "\n",
    "from sklearn.feature_extraction.text import CountVectorizer\n",
    "from sklearn.decomposition import LatentDirichletAllocation\n",
    "\n",
    "n_features = 5000\n",
    "n_topics = 10\n",
    "n_top_words = 10\n",
    "\n",
    "print(\"Loading dataset...\")\n",
    "\n",
    "train = reviewsText[:1000]\n",
    "\n",
    "print(\"Extracting tf features for LDA...\")\n",
    "tf_vectorizer = CountVectorizer(max_df=0.8, min_df=10,\n",
    "                                max_features=n_features,\n",
    "                                stop_words='english')\n",
    "\n",
    "tf = tf_vectorizer.fit_transform(train)\n",
    "print(\"Fitting LDA model ...\")\n",
    "lda = LatentDirichletAllocation(n_components=n_topics, max_iter=20,\n",
    "                                learning_method='online',\n",
    "                                learning_offset=50.)\n",
    "\n",
    "lda.fit(tf)\n",
    "\n",
    "print(\"\\nTopics in LDA model:\")\n",
    "tf_feature_names = tf_vectorizer.get_feature_names()\n",
    "print_top_words(lda, tf_feature_names, n_top_words)"
   ]
  }
 ],
 "metadata": {
  "kernelspec": {
   "display_name": "Python 3",
   "language": "python",
   "name": "python3"
  },
  "language_info": {
   "codemirror_mode": {
    "name": "ipython",
    "version": 3
   },
   "file_extension": ".py",
   "mimetype": "text/x-python",
   "name": "python",
   "nbconvert_exporter": "python",
   "pygments_lexer": "ipython3",
   "version": "3.6.6"
  },
  "varInspector": {
   "cols": {
    "lenName": 16,
    "lenType": 16,
    "lenVar": 40
   },
   "kernels_config": {
    "python": {
     "delete_cmd_postfix": "",
     "delete_cmd_prefix": "del ",
     "library": "var_list.py",
     "varRefreshCmd": "print(var_dic_list())"
    },
    "r": {
     "delete_cmd_postfix": ") ",
     "delete_cmd_prefix": "rm(",
     "library": "var_list.r",
     "varRefreshCmd": "cat(var_dic_list()) "
    }
   },
   "position": {
    "height": "189.85px",
    "left": "830px",
    "right": "20px",
    "top": "120px",
    "width": "350px"
   },
   "types_to_exclude": [
    "module",
    "function",
    "builtin_function_or_method",
    "instance",
    "_Feature"
   ],
   "window_display": false
  }
 },
 "nbformat": 4,
 "nbformat_minor": 2
}
