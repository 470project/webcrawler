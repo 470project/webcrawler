{
 "cells": [
  {
   "cell_type": "code",
   "execution_count": 96,
   "metadata": {},
   "outputs": [
    {
     "name": "stdout",
     "output_type": "stream",
     "text": [
      "{'language': 'English', 'genre': ['Mystery', 'Adventure'], 'favorites': '13', 'follows': '19', 'reviews': '82', 'words': '40,782', 'chapters': '13'}\n",
      "{'pageType': 'story', 'storyLink': '/s/13025005/1/A-Twist-In-Time', 'author': '/u/4805578/vandenburgs', 'title': 'A Twist In Time Chapter 1: Introduction, a harry potter fanfic | FanFiction', 'storyType': '/book/Harry-Potter/', 'abstract': 'Hogwarts, 2018. A group of students are sent back in time by Professor McGonagall, Harry Potter and Neville Longbottom to dismantle a Death Eater captation network that had passed unnoticed to the members of the Order at the time – and thus throwing them into an entire year of darkness, confusion and chaos.', 'rating': 'Fiction  T', 'otherInfo': {'language': 'English', 'genre': ['Mystery', 'Adventure'], 'favorites': '13', 'follows': '19', 'reviews': '82', 'words': '40,782', 'chapters': '13'}, 'date': '2018-10-16 42:16', 'characters': {'harry': 4, 'dumbledore': 1, 'voldemort': 1, 'ron': 1, 'neville': 5, 'mcgonagall': 8}}\n"
     ]
    }
   ],
   "source": [
    "import json\n",
    "import string\n",
    "with open('resultSmall.json') as f:\n",
    "    stories = [x for x in json.load(f)['entities'] if str(x['pageType']) == \"story\"]\n",
    "    #print(stories[0]['otherInfo'])\n",
    "    #table = str.maketrans(\"\", \"\", string.punctuation)\n",
    "    #print([int(str(x['otherInfo']['words']).replace(',', '')) for x in stories])\n",
    "    print(max(stories, key=lambda x: int(str(x['otherInfo']['words']).replace(',', ''))))"
   ]
  },
  {
   "cell_type": "code",
   "execution_count": null,
   "metadata": {},
   "outputs": [],
   "source": [
    "()"
   ]
  }
 ],
 "metadata": {
  "kernelspec": {
   "display_name": "Python 3",
   "language": "python",
   "name": "python3"
  },
  "language_info": {
   "codemirror_mode": {
    "name": "ipython",
    "version": 3
   },
   "file_extension": ".py",
   "mimetype": "text/x-python",
   "name": "python",
   "nbconvert_exporter": "python",
   "pygments_lexer": "ipython3",
   "version": "3.6.6"
  }
 },
 "nbformat": 4,
 "nbformat_minor": 2
}
