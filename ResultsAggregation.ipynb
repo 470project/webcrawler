{
 "cells": [
  {
   "cell_type": "markdown",
   "metadata": {},
   "source": [
    "## Load Data"
   ]
  },
  {
   "cell_type": "code",
   "execution_count": 24,
   "metadata": {},
   "outputs": [
    {
     "name": "stdout",
     "output_type": "stream",
     "text": [
      "1798 3693 46479 1655\n"
     ]
    }
   ],
   "source": [
    "import json\n",
    "import string\n",
    "import matplotlib.pyplot as plt \n",
    "import json_lines\n",
    "import itertools\n",
    "\n",
    "with open('result.jl', 'rb') as f:\n",
    "    entities = [x for x in json_lines.reader(f)]\n",
    "    stories = [x for x in entities if str(x['pageType']) == \"story\" and str(x['storyType']) == '/book/Harry-Potter/']\n",
    "    storiesNotPotter = [x for x in entities if str(x['pageType']) == \"story\" and str(x['storyType']) != '/book/Harry-Potter/']\n",
    "    reviews = [x for x in entities if str(x['pageType']) == \"review\"]\n",
    "    users = [x for x in entities if str(x['pageType']) == \"user\"]\n",
    "    \n",
    "    print(len(stories),len(storiesNotPotter),len(reviews),len(users))"
   ]
  },
  {
   "cell_type": "markdown",
   "metadata": {
    "heading_collapsed": true
   },
   "source": [
    "## Display Sentiment chart"
   ]
  },
  {
   "cell_type": "code",
   "execution_count": 4,
   "metadata": {
    "hidden": true
   },
   "outputs": [
    {
     "data": {
      "text/plain": [
       "[<matplotlib.lines.Line2D at 0x27038d3eb00>]"
      ]
     },
     "execution_count": 4,
     "metadata": {},
     "output_type": "execute_result"
    },
    {
     "data": {
      "image/png": "[encoded data removed]",
      "text/plain": [
       "<Figure size 432x288 with 1 Axes>"
      ]
     },
     "metadata": {},
     "output_type": "display_data"
    }
   ],
   "source": [
    "import operator\n",
    "storyReviewDic = {}\n",
    "for review in reviews:\n",
    "    if(review['reviewOf'] not in storyReviewDic):\n",
    "        storyReviewDic[review['reviewOf']] = []\n",
    "    storyReviewDic[review['reviewOf']].append(review)\n",
    "\n",
    "storySentimentScores = [sum([z['sentimentScore'] for z in y]) for x, y in storyReviewDic.items()]\n",
    "\n",
    "buckets = {}\n",
    "\n",
    "def updateBucket(x):\n",
    "    buckets.setdefault(x, 0)\n",
    "    buckets[x]+=1\n",
    "\n",
    "[ updateBucket(int(x)) for x in storySentimentScores]\n",
    "\n",
    "sortedBuckets = sorted(buckets.items(), key=operator.itemgetter(0))\n",
    "\n",
    "fig = plt.figure()\n",
    "ax = fig.add_subplot(2, 1, 1)\n",
    "ax.plot([x for x,y in sortedBuckets], [y for x,y in sortedBuckets], color='blue', lw=2)\n",
    "\n",
    "#print(sum(storySentimentScore)/ len(storySentimentScore))"
   ]
  },
  {
   "cell_type": "code",
   "execution_count": 5,
   "metadata": {
    "hidden": true
   },
   "outputs": [
    {
     "data": {
      "text/plain": [
       "9.344541108404393"
      ]
     },
     "execution_count": 5,
     "metadata": {},
     "output_type": "execute_result"
    }
   ],
   "source": [
    "sum(storySentimentScores)/len(storySentimentScores)"
   ]
  },
  {
   "cell_type": "markdown",
   "metadata": {
    "heading_collapsed": true
   },
   "source": [
    "## Create Adjacency Matrix"
   ]
  },
  {
   "cell_type": "code",
   "execution_count": 28,
   "metadata": {
    "hidden": true
   },
   "outputs": [],
   "source": [
    "import numpy as np\n",
    "idDict = {}\n",
    "idCnt = 0\n",
    "\n",
    "for x in users:\n",
    "    if(x['name'] in idDict):\n",
    "        continue;\n",
    "    idDict[idCnt] = x['name']\n",
    "    idCnt += 1\n",
    "\n",
    "nameToIdDict = {v: k for k, v in idDict.items()}\n",
    "\n",
    "userFavorites = {}\n",
    "for user in users:\n",
    "    userId = nameToIdDict[user['name']]\n",
    "    userFavorites[userId] = []\n",
    "    for favorite in user['favorites']:\n",
    "        auther = favorite['favAuthor']\n",
    "        if(auther in nameToIdDict):\n",
    "            autherId = nameToIdDict[auther]\n",
    "            if(autherId not in userFavorites[userId]):\n",
    "                userFavorites[userId].append(autherId)\n",
    "                \n",
    "matrix = np.zeros([len(idDict), len(idDict)])\n",
    "\n",
    "for userId, favorites in userFavorites.items():\n",
    "    matrix[userId, userId] = 1\n",
    "    for favId in favorites:\n",
    "        matrix[userId, favId] = 1"
   ]
  },
  {
   "cell_type": "markdown",
   "metadata": {
    "heading_collapsed": true
   },
   "source": [
    "## Try to get groups based on adjacency matrix"
   ]
  },
  {
   "cell_type": "code",
   "execution_count": 7,
   "metadata": {
    "hidden": true
   },
   "outputs": [
    {
     "data": {
      "text/plain": [
       "<Figure size 864x864 with 0 Axes>"
      ]
     },
     "metadata": {},
     "output_type": "display_data"
    }
   ],
   "source": [
    "from sklearn.cluster import KMeans\n",
    "from sklearn.datasets import make_blobs\n",
    "\n",
    "plt.figure(figsize=(12, 12))\n",
    "\n",
    "random_state = 345345\n",
    "pred = KMeans(n_clusters=5, random_state=random_state).fit_predict(matrix)\n",
    "\n",
    "i = 0\n",
    "clusters = {}\n",
    "def makeCombined(x):\n",
    "    global i\n",
    "    row = [i,x]\n",
    "    i += 1\n",
    "    return row\n",
    "\n",
    "usersWithCluster = [makeCombined(x) for x in pred]\n",
    "\n",
    "import collections\n",
    "\n",
    "clusters = collections.defaultdict(list)\n",
    "for x in usersWithCluster:\n",
    "    clusters[x[1]].append(x[0])\n",
    "clusters = dict(clusters)\n",
    "print([len(j) for i,j in clusters.items()])"
   ]
  },
  {
   "cell_type": "code",
   "execution_count": 9,
   "metadata": {
    "hidden": true
   },
   "outputs": [
    {
     "data": {
      "image/png": "[encoded data removed]",
      "text/plain": [
       "<Figure size 432x288 with 1 Axes>"
      ]
     },
     "metadata": {},
     "output_type": "display_data"
    }
   ],
   "source": [
    "import matplotlib.pyplot as plt\n",
    "import networkx as nx\n",
    "\n",
    "colors = ['r', 'b', 'y', 'g', 'c', 'black', 'm', 'orange', 'grey', '']\n",
    "\n",
    "def show_graph(adjacency_matrix):\n",
    "    rows, cols = np.where(adjacency_matrix == 1)\n",
    "    edges = zip(rows.tolist(), cols.tolist())\n",
    "    #print([x for x in edges])\n",
    "    gr = nx.Graph()\n",
    "    gr.add_edges_from(edges)\n",
    "    #gr[0][1]['color'] = 'color'\n",
    "    \n",
    "    #nx.draw(gr, node_size=1)\n",
    "    pos=nx.spring_layout(gr) \n",
    "    for i in range(5):\n",
    "        nx.draw_networkx_nodes(gr,pos,nodelist = clusters[i], node_size=1, node_color=colors[i])\n",
    "    #nx.draw_networkx_nodes(gr,pos,nodelist = clusters[1], node_size=1, node_color=colors[1])\n",
    "    \n",
    "    #nx.draw_networkx_edges(gr,pos,\n",
    "    #                   width=1,alpha=0.5,edge_color='r')\n",
    "    plt.show()\n",
    "    \n",
    "show_graph(matrix)\n"
   ]
  },
  {
   "cell_type": "code",
   "execution_count": 135,
   "metadata": {
    "hidden": true
   },
   "outputs": [
    {
     "data": {
      "image/png": "[encoded data removed]",
      "text/plain": [
       "<Figure size 432x288 with 1 Axes>"
      ]
     },
     "metadata": {},
     "output_type": "display_data"
    }
   ],
   "source": [
    "import matplotlib.pyplot as plt\n",
    "import networkx as nx\n",
    "\n",
    "def show_graph(adjacency_matrix):\n",
    "    rows, cols = np.where(adjacency_matrix == 1)\n",
    "    edges = zip(rows.tolist(), cols.tolist())\n",
    "    gr = nx.Graph()\n",
    "    gr.add_edges_from(edges)\n",
    "    \n",
    "    nx.draw(gr, node_size=1)\n",
    "    plt.show()\n",
    "    \n",
    "show_graph(matrix)"
   ]
  },
  {
   "cell_type": "code",
   "execution_count": null,
   "metadata": {
    "hidden": true
   },
   "outputs": [],
   "source": []
  },
  {
   "cell_type": "markdown",
   "metadata": {
    "heading_collapsed": true
   },
   "source": [
    "## Make Character Graph"
   ]
  },
  {
   "cell_type": "code",
   "execution_count": 3,
   "metadata": {
    "hidden": true
   },
   "outputs": [
    {
     "data": {
      "text/plain": [
       "[<matplotlib.lines.Line2D at 0x20c9d6b8eb8>]"
      ]
     },
     "execution_count": 3,
     "metadata": {},
     "output_type": "execute_result"
    },
    {
     "data": {
      "image/png": "[encoded data removed]",
      "text/plain": [
       "<Figure size 432x288 with 1 Axes>"
      ]
     },
     "metadata": {},
     "output_type": "display_data"
    }
   ],
   "source": [
    "import collections\n",
    "from collections import Counter\n",
    "characterFreqs = Counter({})\n",
    "for x in stories:\n",
    "    characterFreqs += Counter(x['characters'])\n",
    "characterFreqs = dict(characterFreqs)\n",
    "#print(characterFreqs)\n",
    "fig = plt.figure()\n",
    "ax = fig.add_subplot(2, 1, 1)\n",
    "ax.plot(sorted(characterFreqs.values(), reverse=True), color='blue', lw=2)"
   ]
  },
  {
   "cell_type": "markdown",
   "metadata": {},
   "source": [
    "## making character matrix "
   ]
  },
  {
   "cell_type": "markdown",
   "metadata": {
    "heading_collapsed": true
   },
   "source": [
    "### get character ids"
   ]
  },
  {
   "cell_type": "code",
   "execution_count": 195,
   "metadata": {
    "hidden": true
   },
   "outputs": [],
   "source": [
    "import collections\n",
    "from collections import Counter\n",
    "characterFreqs = Counter({})\n",
    "for x in stories:\n",
    "    characterFreqs += Counter(x['characters'])\n",
    "characterFreqs = dict(characterFreqs)\n",
    "charList = list(characterFreqs.keys())\n",
    "idToChar = {charList.index(x): x for x in charList}\n",
    "charToId = {x : charList.index(x) for x in charList}"
   ]
  },
  {
   "cell_type": "markdown",
   "metadata": {
    "heading_collapsed": true
   },
   "source": [
    "### make the matrix"
   ]
  },
  {
   "cell_type": "code",
   "execution_count": 196,
   "metadata": {
    "hidden": true
   },
   "outputs": [],
   "source": [
    "import numpy as np\n",
    "from numpy import linalg as LA\n",
    "\n",
    "matrix = np.zeros([len(stories), len(charToId)])\n",
    "\n",
    "storyId = 0\n",
    "for story in stories:\n",
    "    totalCharFreq = 0\n",
    "    chars = dict(story['characters'])\n",
    "    for char, freq in chars.items():\n",
    "    #    if(char != 'Harry Potter' and char != 'Ron weasley'):\n",
    "        totalCharFreq += freq\n",
    "    for char, freq in chars.items():\n",
    "    #    if(char != 'Harry Potter' and char != 'Ron weasley'):\n",
    "        matrix[storyId][charToId[char]] = freq\n",
    "        #else:\n",
    "        #    matrix[storyId][charToId[char]] = 0\n",
    "    storyId += 1\n",
    "matrix = (matrix / matrix.sum())\n"
   ]
  },
  {
   "cell_type": "markdown",
   "metadata": {
    "heading_collapsed": true
   },
   "source": [
    "### cluster it"
   ]
  },
  {
   "cell_type": "code",
   "execution_count": 197,
   "metadata": {
    "hidden": true
   },
   "outputs": [],
   "source": [
    "import time\n",
    "from sklearn.cluster import KMeans\n",
    "from sklearn.datasets import make_blobs\n",
    "\n",
    "random_state = int(time.time())\n",
    "pred = KMeans(n_clusters=20, random_state=random_state).fit_predict(matrix)"
   ]
  },
  {
   "cell_type": "code",
   "execution_count": 198,
   "metadata": {
    "hidden": true
   },
   "outputs": [],
   "source": [
    "i = 0\n",
    "clusters = {}\n",
    "def makeCombined(x):\n",
    "    global i\n",
    "    row = [i,x]\n",
    "    i += 1\n",
    "    return row\n",
    "\n",
    "storiesWithCluster = [makeCombined(x) for x in pred]\n",
    "#print(sotriesWithCluster)\n"
   ]
  },
  {
   "cell_type": "code",
   "execution_count": 203,
   "metadata": {
    "hidden": true
   },
   "outputs": [
    {
     "name": "stdout",
     "output_type": "stream",
     "text": [
      "[(9, 68), (0, 305), (2, 221), (17, 183), (4, 110), (7, 80), (1, 26), (19, 23), (13, 1117), (8, 30), (5, 5), (11, 7), (12, 4), (3, 3), (10, 5), (6, 7), (14, 6), (16, 1), (18, 1), (15, 1)]\n"
     ]
    }
   ],
   "source": [
    "import collections\n",
    "\n",
    "clusters = collections.defaultdict(list)\n",
    "for x in storiesWithCluster:\n",
    "    clusters[x[1]].append(x[0])\n",
    "clusters = dict(clusters)\n",
    "#print(clusters)\n",
    "print([(i,len(j)) for i,j in clusters.items()])"
   ]
  },
  {
   "cell_type": "code",
   "execution_count": 204,
   "metadata": {
    "hidden": true
   },
   "outputs": [
    {
     "name": "stdout",
     "output_type": "stream",
     "text": [
      "dict_keys([9, 0, 2, 17, 4, 7, 1, 19, 13, 8, 5, 11, 12, 3, 10, 6, 14, 16, 18, 15])\n",
      "9 [('Harry Potter', 35), ('Ron weasley', 9), ('Albus Dumbledore', 3), ('Voldemort', 3), ('Cho Chang', 3), ('Death', 2), ('Hermione Granger', 2), ('Ginny weasley', 2), ('Severus Snape', 2)]\n",
      "0 [('Harry Potter', 30), ('Ron weasley', 14), ('Hermione Granger', 9), ('Cho Chang', 5), ('Albus Dumbledore', 4), ('Severus Snape', 3), ('Voldemort', 3), ('Draco Malfoy', 2), ('Death', 2), ('Fat Friar', 2)]\n",
      "2 [('Ron weasley', 26), ('Cho Chang', 9), ('Fat Friar', 4), ('Death', 2), ('Michael Corner', 2), ('Hope Howell', 2), ('Dean Thomas', 2), ('Ben Cooper', 2), ('Severus Snape', 2)]\n",
      "17 [('Harry Potter', 37), ('Ron weasley', 11), ('Hermione Granger', 6), ('Cho Chang', 5), ('Albus Dumbledore', 4), ('Voldemort', 3), ('Death', 2), ('Severus Snape', 2), ('Remus Lupin', 2)]\n",
      "4 [('Harry Potter', 38), ('Ron weasley', 8), ('Cho Chang', 3), ('Hermione Granger', 3), ('Severus Snape', 3), ('Ginny weasley', 2), ('Voldemort', 2), ('Albus Dumbledore', 2)]\n",
      "7 [('Harry Potter', 20), ('Hermione Granger', 15), ('Ron weasley', 9), ('Cho Chang', 3), ('Albus Dumbledore', 2)]\n",
      "1 [('Harry Potter', 14), ('Hermione Granger', 8), ('Ron weasley', 4)]\n",
      "19 [('Harry Potter', 20), ('Ron weasley', 4), ('Cho Chang', 2)]\n",
      "13 [('Ron weasley', 26), ('Cho Chang', 18), ('Fat Friar', 10), ('Harry Potter', 6), ('Hope Howell', 5), ('Ben Cooper', 5), ('Death', 4), ('Jack Sloper', 3), ('Severus Snape', 3), ('Katie Bell', 3), ('Hermione Granger', 2), ('Mark Evans', 2), ('Sophie Roper', 2)]\n",
      "8 [('Ron weasley', 11)]\n",
      "5 [('Harry Potter', 6)]\n",
      "11 [('Newt Scamander', 3), ('Herman Wintringham', 3)]\n",
      "12 [('Harry Potter', 3), ('Severus Snape', 2)]\n",
      "3 [('Harry Potter', 6), ('Hermione Granger', 3), ('Ron weasley', 2)]\n",
      "10 [('Harry Potter', 6), ('Hermione Granger', 3)]\n",
      "6 [('Ron weasley', 8)]\n",
      "14 [('Harry Potter', 9), ('Ron weasley', 3)]\n",
      "16 [('Harry Potter', 2)]\n",
      "18 [('Harry Potter', 2)]\n",
      "15 []\n"
     ]
    }
   ],
   "source": [
    "def showCluster(clusterId):\n",
    "    clusterCharacterFreqs = Counter({})\n",
    "    for storyId in clusters[clusterId]:\n",
    "        charsInStory = np.where(matrix[storyId] > 0)\n",
    "        if(len(charsInStory[0]) == 0):\n",
    "            continue\n",
    "        for charId in np.nditer(charsInStory):\n",
    "            #print(matrix[storyId][charId], charId)\n",
    "            clusterCharacterFreqs[int(charId)] += matrix[storyId][charId]\n",
    "    clusterCharsWithFreq = [(x,y, idToChar[x])for x,y in clusterCharacterFreqs.items() if y > .002]\n",
    "    \n",
    "    return sorted(clusterCharsWithFreq, key= lambda x: x[1],reverse=True)\n",
    "\n",
    "print(clusters.keys())\n",
    "    \n",
    "for i in clusters.keys():\n",
    "    #print(len(clusters[i]))\n",
    "    print(i,[ (z,int(y*1000)) for x,y,z in showCluster(i)])"
   ]
  },
  {
   "cell_type": "code",
   "execution_count": 137,
   "metadata": {
    "hidden": true
   },
   "outputs": [
    {
     "data": {
      "image/png": "[encoded data removed]",
      "text/plain": [
       "<Figure size 720x720 with 1 Axes>"
      ]
     },
     "metadata": {},
     "output_type": "display_data"
    }
   ],
   "source": [
    "import matplotlib.pyplot as plt\n",
    "import networkx as nx\n",
    "\n",
    "colors = ['r', 'b', 'y', 'g', 'c', 'black', 'm', 'orange', 'grey', 'pink']\n",
    "\n",
    "def plotCharacters(charId1, charId2, clusters):\n",
    "    #print(charId1, charId2, clusters)\n",
    "    #print(clusters)\n",
    "    fig = plt.figure(figsize=[10,10])\n",
    "    ax = fig.add_subplot(1, 1, 1)\n",
    "    for clusterId, cluster in clusters.items():\n",
    "        X = []\n",
    "        Y = []\n",
    "        for storyId in cluster:\n",
    "            X.append(matrix[storyId][charId1])\n",
    "            Y.append(matrix[storyId][charId2])\n",
    "        ax.scatter(X,Y, color=colors[clusterId], s=.25)\n",
    "            \n",
    "plotCharacters(2,4, clusters)"
   ]
  },
  {
   "cell_type": "markdown",
   "metadata": {},
   "source": [
    "## LDA"
   ]
  },
  {
   "cell_type": "markdown",
   "metadata": {},
   "source": [
    "### Characters in Story"
   ]
  },
  {
   "cell_type": "code",
   "execution_count": 89,
   "metadata": {},
   "outputs": [
    {
     "name": "stdout",
     "output_type": "stream",
     "text": [
      "1798\n"
     ]
    }
   ],
   "source": [
    "def foldDict(chars):\n",
    "    charsMult = [(char + ' ') * freq for char, freq in chars.items()]\n",
    "    #print(len(charsMult))\n",
    "    charsStr = ''\n",
    "    for charStr in charsMult:\n",
    "        charsStr += charStr\n",
    "    return charsStr\n",
    "\n",
    "charList = [ foldDict(story['characters']) for story in stories]"
   ]
  },
  {
   "cell_type": "code",
   "execution_count": 91,
   "metadata": {},
   "outputs": [
    {
     "name": "stdout",
     "output_type": "stream",
     "text": [
      "Loading dataset...\n",
      "Extracting tf features for LDA...\n",
      "Fitting LDA model ...\n",
      "\n",
      "Topics in LDA model:\n",
      "\n",
      "Topic #0:\n",
      "malfoy draco lucius narcissa blaise zabini fat friar hermione granger\n",
      "\n",
      "Topic #1:\n",
      "tracey davis fenrir greyback johnson angelina greengrass astoria alicia spinnet\n",
      "\n",
      "Topic #2:\n",
      "bones cornelilus fudge susan amelia flint marcus albus dumbledore scrimgeour\n",
      "\n",
      "Topic #3:\n",
      "snape severus dumbledore albus fat friar pomfrey poppy howell hope\n",
      "\n",
      "Topic #4:\n",
      "nott theodore evans mark filius flitwick ben cooper roper sophie\n",
      "\n",
      "Topic #5:\n",
      "gaunt riddle tom death jr merope quirinus quirrell marvolo friar\n",
      "\n",
      "Topic #6:\n",
      "granger hermione dobby howell hope fat friar lavender brown voldemort\n",
      "\n",
      "Topic #7:\n",
      "hagrid rubeus diggory cedric albus bagman ludo dumbledore karkaroff igor\n",
      "\n",
      "Topic #8:\n",
      "delacour fleur viktor krum vane romilda gabrielle maxime olympe fat\n",
      "\n",
      "Topic #9:\n",
      "ginny weasely arthur percy shacklebolt kingsley fred granger death molly\n",
      "\n",
      "Topic #10:\n",
      "dursley dudley vernon petunia hedwig friar fat figg arabella hope\n",
      "\n",
      "Topic #11:\n",
      "black rosier evan regulus slughorn horace orion kreacher pucey adrian\n",
      "\n",
      "Topic #12:\n",
      "grindlewald gellert gryffindor godric slytherin salazar ravenclaw owen cauldwell rowena\n",
      "\n",
      "Topic #13:\n",
      "lupin remus minerva mcgonagall pomfrey poppy dumbledore albus fat friar\n",
      "\n",
      "Topic #14:\n",
      "longbottom neville peter pettigrew umbridge dolores lockhart gilderoy augusta alice\n",
      "\n",
      "Topic #15:\n",
      "george sloper jack fred hedwig charlie michael corner hope howell\n",
      "\n",
      "Topic #16:\n",
      "thomas dean patil padma brown lavender macdougal morag parvati brocklehurst\n",
      "\n",
      "Topic #17:\n",
      "fat friar katie bell death lestrange voldemort bellatrix hope howell\n",
      "\n",
      "Topic #18:\n",
      "dumbledore albus voldemort death troy fat friar skeeter rita hope\n",
      "\n",
      "Topic #19:\n",
      "moody alastor parkinson pansy abbott hannah terry boot hope albus\n",
      "\n"
     ]
    }
   ],
   "source": [
    "from __future__ import print_function\n",
    "\n",
    "from sklearn.feature_extraction.text import CountVectorizer\n",
    "from sklearn.decomposition import LatentDirichletAllocation\n",
    "\n",
    "n_features = 5000\n",
    "n_topics = 20\n",
    "n_top_words = 10\n",
    "\n",
    "def print_top_words(model, feature_names, n_top_words):\n",
    "    for topic_idx, topic in enumerate(model.components_):\n",
    "        print(\"\\nTopic #%d:\" % topic_idx)\n",
    "        print(\" \".join([feature_names[i]\n",
    "                        for i in topic.argsort()[:-n_top_words - 1:-1]]))\n",
    "    print()\n",
    "\n",
    "print(\"Loading dataset...\")\n",
    "\n",
    "train = charList\n",
    "\n",
    "print(\"Extracting tf features for LDA...\")\n",
    "tf_vectorizer = CountVectorizer(max_df=0.8, min_df=10,\n",
    "                                max_features=n_features,\n",
    "                                stop_words='english')\n",
    "\n",
    "tf = tf_vectorizer.fit_transform(train)\n",
    "print(\"Fitting LDA model ...\")\n",
    "lda = LatentDirichletAllocation(n_components=n_topics, max_iter=20,\n",
    "                                learning_method='online',\n",
    "                                learning_offset=50.)\n",
    "\n",
    "lda.fit(tf)\n",
    "\n",
    "print(\"\\nTopics in LDA model:\")\n",
    "tf_feature_names = tf_vectorizer.get_feature_names()\n",
    "print_top_words(lda, tf_feature_names, n_top_words)"
   ]
  },
  {
   "cell_type": "markdown",
   "metadata": {
    "heading_collapsed": true
   },
   "source": [
    "### Do Story Text"
   ]
  },
  {
   "cell_type": "code",
   "execution_count": 69,
   "metadata": {
    "hidden": true
   },
   "outputs": [],
   "source": [
    "storiesText = [x['abstract'] for x in stories]"
   ]
  },
  {
   "cell_type": "code",
   "execution_count": 70,
   "metadata": {
    "hidden": true
   },
   "outputs": [
    {
     "name": "stdout",
     "output_type": "stream",
     "text": [
      "Loading dataset...\n",
      "Extracting tf features for LDA...\n",
      "Fitting LDA model ...\n",
      "\n",
      "Topics in LDA model:\n",
      "\n",
      "Topic #0:\n",
      "year hermione hogwarts story time au ron decides voldemort years\n",
      "\n",
      "Topic #1:\n",
      "weasley secrets chamber fawkes diary chapters day hermione finally late\n",
      "\n",
      "Topic #2:\n",
      "draco really love got person malfoy hermione point mate parents\n",
      "\n",
      "Topic #3:\n",
      "friends place complete family year change like summer events hermione\n",
      "\n",
      "Topic #4:\n",
      "discovers deal lot daphne plan triwizard unexpected potter goblet umbridge\n",
      "\n",
      "Topic #5:\n",
      "dark hp little dumbledore lord hogwarts death set just hermione\n",
      "\n",
      "Topic #6:\n",
      "luna battle final come day way help tom dear adopted\n",
      "\n",
      "Topic #7:\n",
      "reviews saving voldemort ron leave discovers hogwarts tries training took\n",
      "\n",
      "Topic #8:\n",
      "sirius black ootp fight death dimension able au forever avoid\n",
      "\n",
      "Topic #9:\n",
      "life make finds gets changes potter slash shot home summer\n",
      "\n",
      "Topic #10:\n",
      "things potter world past magical don chance change didn war\n",
      "\n",
      "Topic #11:\n",
      "time travel future bond fic bonds power soul voldemort order\n",
      "\n",
      "Topic #12:\n",
      "destiny tournament wizard set tri safe free night wizards kill\n",
      "\n",
      "Topic #13:\n",
      "world potter new voldemort wizarding au war old dark lord\n",
      "\n",
      "Topic #14:\n",
      "save future bellatrix change abuse opportunity past results dark young\n",
      "\n",
      "Topic #15:\n",
      "problem hero mind mod dumbledore wasn tried bashing au deal\n",
      "\n",
      "Topic #16:\n",
      "little live reason die girl like fem potter body eventual\n",
      "\n",
      "Topic #17:\n",
      "death green souls life chance au second world end dead\n",
      "\n",
      "Topic #18:\n",
      "makes just life learns death lives exactly year ends different\n",
      "\n",
      "Topic #19:\n",
      "snape severus story does complete albus dumbledore potter sequel minerva\n",
      "\n"
     ]
    }
   ],
   "source": [
    "from __future__ import print_function\n",
    "\n",
    "from sklearn.feature_extraction.text import CountVectorizer\n",
    "from sklearn.decomposition import LatentDirichletAllocation\n",
    "\n",
    "n_features = 5000\n",
    "n_topics = 20\n",
    "n_top_words = 10\n",
    "\n",
    "def print_top_words(model, feature_names, n_top_words):\n",
    "    for topic_idx, topic in enumerate(model.components_):\n",
    "        print(\"\\nTopic #%d:\" % topic_idx)\n",
    "        print(\" \".join([feature_names[i]\n",
    "                        for i in topic.argsort()[:-n_top_words - 1:-1]]))\n",
    "    print()\n",
    "\n",
    "print(\"Loading dataset...\")\n",
    "\n",
    "train = storiesText\n",
    "\n",
    "print(\"Extracting tf features for LDA...\")\n",
    "tf_vectorizer = CountVectorizer(max_df=0.7, min_df=10,\n",
    "                                max_features=n_features,\n",
    "                                stop_words='english')\n",
    "#tf_vectorizer = CountVectorizer(max_features=n_features)\n",
    "\n",
    "\n",
    "tf = tf_vectorizer.fit_transform(train)\n",
    "print(\"Fitting LDA model ...\")\n",
    "lda = LatentDirichletAllocation(n_components=n_topics, max_iter=20,\n",
    "                                learning_method='online',\n",
    "                                learning_offset=50.)\n",
    "\n",
    "lda.fit(tf)\n",
    "\n",
    "print(\"\\nTopics in LDA model:\")\n",
    "tf_feature_names = tf_vectorizer.get_feature_names()\n",
    "print_top_words(lda, tf_feature_names, n_top_words)"
   ]
  },
  {
   "cell_type": "markdown",
   "metadata": {
    "heading_collapsed": true
   },
   "source": [
    "### Do Review Text"
   ]
  },
  {
   "cell_type": "code",
   "execution_count": 65,
   "metadata": {
    "hidden": true
   },
   "outputs": [],
   "source": [
    "\n",
    "\n",
    "storiesDict = {x['storyLink'] : x for x in stories}\n",
    "\n",
    "#print(len(reviewsText))\n",
    "#print(len[x for x in reviews[:110]])\n",
    "#print(len())\n",
    "harryPotterReviews = [x for x in reviews if x['reviewOf'] in storiesDict]\n",
    "reviewsText = [x['reviewBody'] for x in harryPotterReviews]\n",
    "#and storiesDict[x['reviewOf']]['storyType']] == '/book/Harry-Potter/'\n",
    "#print([x['storyLink'] for x in stories[:1]])"
   ]
  },
  {
   "cell_type": "code",
   "execution_count": 68,
   "metadata": {
    "hidden": true
   },
   "outputs": [
    {
     "name": "stdout",
     "output_type": "stream",
     "text": [
      "Loading dataset...\n",
      "Extracting tf features for LDA...\n",
      "Fitting LDA model ...\n",
      "\n",
      "Topics in LDA model:\n",
      "\n",
      "Topic #0:\n",
      "story read like really im just love thanks writing ive\n",
      "\n",
      "Topic #1:\n",
      "love oh dumbledore voldemort youre stop death sirius right harrys\n",
      "\n",
      "Topic #2:\n",
      "nice chapter cute lol damn new far got fanfic thats\n",
      "\n",
      "Topic #3:\n",
      "harry hermione like ron think draco way liked know things\n",
      "\n",
      "Topic #4:\n",
      "update great soon hope family chapter hello going magic story\n",
      "\n",
      "Topic #5:\n",
      "finish come end years wait ending need read good leave\n",
      "\n",
      "Topic #6:\n",
      "read interesting wow fic continue thing reread reading potter definitely\n",
      "\n",
      "Topic #7:\n",
      "good just did sad brilliant poor getting thats snape chapter\n",
      "\n",
      "Topic #8:\n",
      "story loved excellent continue great really quite hope let dont\n",
      "\n",
      "Topic #9:\n",
      "thank writing stories awesome work didnt think lot amazing beautiful\n",
      "\n"
     ]
    }
   ],
   "source": [
    "from __future__ import print_function\n",
    "\n",
    "from sklearn.feature_extraction.text import CountVectorizer\n",
    "from sklearn.decomposition import LatentDirichletAllocation\n",
    "\n",
    "n_features = 5000\n",
    "n_topics = 10\n",
    "n_top_words = 10\n",
    "\n",
    "print(\"Loading dataset...\")\n",
    "\n",
    "train = reviewsText[:1000]\n",
    "\n",
    "print(\"Extracting tf features for LDA...\")\n",
    "tf_vectorizer = CountVectorizer(max_df=0.8, min_df=10,\n",
    "                                max_features=n_features,\n",
    "                                stop_words='english')\n",
    "\n",
    "tf = tf_vectorizer.fit_transform(train)\n",
    "print(\"Fitting LDA model ...\")\n",
    "lda = LatentDirichletAllocation(n_components=n_topics, max_iter=20,\n",
    "                                learning_method='online',\n",
    "                                learning_offset=50.)\n",
    "\n",
    "lda.fit(tf)\n",
    "\n",
    "print(\"\\nTopics in LDA model:\")\n",
    "tf_feature_names = tf_vectorizer.get_feature_names()\n",
    "print_top_words(lda, tf_feature_names, n_top_words)"
   ]
  }
 ],
 "metadata": {
  "kernelspec": {
   "display_name": "Python 3",
   "language": "python",
   "name": "python3"
  },
  "language_info": {
   "codemirror_mode": {
    "name": "ipython",
    "version": 3
   },
   "file_extension": ".py",
   "mimetype": "text/x-python",
   "name": "python",
   "nbconvert_exporter": "python",
   "pygments_lexer": "ipython3",
   "version": "3.6.6"
  },
  "varInspector": {
   "cols": {
    "lenName": 16,
    "lenType": 16,
    "lenVar": 40
   },
   "kernels_config": {
    "python": {
     "delete_cmd_postfix": "",
     "delete_cmd_prefix": "del ",
     "library": "var_list.py",
     "varRefreshCmd": "print(var_dic_list())"
    },
    "r": {
     "delete_cmd_postfix": ") ",
     "delete_cmd_prefix": "rm(",
     "library": "var_list.r",
     "varRefreshCmd": "cat(var_dic_list()) "
    }
   },
   "position": {
    "height": "189.85px",
    "left": "830px",
    "right": "20px",
    "top": "120px",
    "width": "350px"
   },
   "types_to_exclude": [
    "module",
    "function",
    "builtin_function_or_method",
    "instance",
    "_Feature"
   ],
   "window_display": false
  }
 },
 "nbformat": 4,
 "nbformat_minor": 2
}
