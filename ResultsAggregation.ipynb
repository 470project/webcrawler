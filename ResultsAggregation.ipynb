{
 "cells": [
  {
   "cell_type": "code",
   "execution_count": 3,
   "metadata": {},
   "outputs": [
    {
     "name": "stdout",
     "output_type": "stream",
     "text": [
      "1060 8669 271\n"
     ]
    }
   ],
   "source": [
    "import json\n",
    "import string\n",
    "import matplotlib.pyplot as plt \n",
    "import json_lines\n",
    "import itertools\n",
    "\n",
    "with open('result.jl', 'rb') as f:\n",
    "    \n",
    "    entities = [x for x in itertools.islice(json_lines.reader(f), 10000)]\n",
    "    stories = [x for x in entities if str(x['pageType']) == \"story\"]\n",
    "    reviews = [x for x in entities if str(x['pageType']) == \"review\"]\n",
    "    users = [x for x in entities if str(x['pageType']) == \"user\"]\n",
    "    \n",
    "    print(len(stories),len(reviews),len(users))\n",
    "    #print(max(stories, key=lambda x: int(str(x['otherInfo']['favorites']).replace(',', ''))))\n",
    "    #favorites = [int(str(x['otherInfo']['favorites'])) for x in stories]\n",
    "    \n",
    "    #print(max(stories, key=lambda x: int(str(x['otherInfo']['words']).replace(',', ''))))"
   ]
  },
  {
   "cell_type": "code",
   "execution_count": 4,
   "metadata": {},
   "outputs": [
    {
     "data": {
      "text/plain": [
       "[<matplotlib.lines.Line2D at 0x211a201ef60>]"
      ]
     },
     "execution_count": 4,
     "metadata": {},
     "output_type": "execute_result"
    },
    {
     "data": {
      "image/png": "[encoded data removed]",
      "text/plain": [
       "<Figure size 432x288 with 1 Axes>"
      ]
     },
     "metadata": {
      "needs_background": "light"
     },
     "output_type": "display_data"
    }
   ],
   "source": [
    "import operator\n",
    "storyReviewDic = {}\n",
    "for review in reviews:\n",
    "    if(review['reviewOf'] not in storyReviewDic):\n",
    "        storyReviewDic[review['reviewOf']] = []\n",
    "    storyReviewDic[review['reviewOf']].append(review)\n",
    "\n",
    "storySentimentScores = [sum([z['sentimentScore'] for z in y]) for x, y in storyReviewDic.items()]\n",
    "\n",
    "buckets = {}\n",
    "\n",
    "def updateBucket(x):\n",
    "    buckets.setdefault(x, 0)\n",
    "    buckets[x]+=1\n",
    "\n",
    "[ updateBucket(int(x)) for x in storySentimentScores]\n",
    "\n",
    "sortedBuckets = sorted(buckets.items(), key=operator.itemgetter(0))\n",
    "\n",
    "fig = plt.figure()\n",
    "ax = fig.add_subplot(2, 1, 1)\n",
    "ax.plot([x for x,y in sortedBuckets], [y for x,y in sortedBuckets], color='blue', lw=2)\n",
    "\n",
    "#print(sum(storySentimentScore)/ len(storySentimentScore))"
   ]
  },
  {
   "cell_type": "code",
   "execution_count": 5,
   "metadata": {},
   "outputs": [
    {
     "data": {
      "text/plain": [
       "8.890580487804884"
      ]
     },
     "execution_count": 5,
     "metadata": {},
     "output_type": "execute_result"
    }
   ],
   "source": [
    "sum(storySentimentScores)/len(storySentimentScores)"
   ]
  },
  {
   "cell_type": "code",
   "execution_count": 6,
   "metadata": {},
   "outputs": [],
   "source": [
    "import numpy as np\n",
    "idDict = {}\n",
    "idCnt = 0\n",
    "\n",
    "for x in users:\n",
    "    if(x['name'] in idDict):\n",
    "        continue;\n",
    "    idDict[idCnt] = x['name']\n",
    "    idCnt += 1\n",
    "\n",
    "nameToIdDict = {v: k for k, v in idDict.items()}\n",
    "\n",
    "userFavorites = {}\n",
    "for user in users:\n",
    "    userId = nameToIdDict[user['name']]\n",
    "    userFavorites[userId] = []\n",
    "    for favorite in user['favorites']:\n",
    "        auther = favorite['favAuthor']\n",
    "        if(auther in nameToIdDict):\n",
    "            autherId = nameToIdDict[auther]\n",
    "            if(autherId not in userFavorites[userId]):\n",
    "                userFavorites[userId].append(autherId)\n",
    "                \n",
    "matrix = np.zeros([len(idDict), len(idDict)])\n",
    "\n",
    "for userId, favorites in userFavorites.items():\n",
    "    matrix[userId, userId] = 1\n",
    "    for favId in favorites:\n",
    "        matrix[userId, favId] = 1"
   ]
  },
  {
   "cell_type": "code",
   "execution_count": 12,
   "metadata": {},
   "outputs": [
    {
     "data": {
      "text/plain": [
       "<Figure size 864x864 with 0 Axes>"
      ]
     },
     "metadata": {},
     "output_type": "display_data"
    }
   ],
   "source": [
    "from sklearn.cluster import KMeans\n",
    "from sklearn.datasets import make_blobs\n",
    "\n",
    "plt.figure(figsize=(12, 12))\n",
    "\n",
    "random_state = 345345\n",
    "pred = KMeans(n_clusters=5, random_state=random_state).fit_predict(matrix)\n",
    "\n",
    "i = 0\n",
    "clusters = {}\n",
    "def makeCombined(x):\n",
    "    global i\n",
    "    row = [i,x]\n",
    "    i += 1\n",
    "    return row\n",
    "\n",
    "usersWithCluster = [makeCombined(x) for x in pred]"
   ]
  },
  {
   "cell_type": "code",
   "execution_count": 13,
   "metadata": {},
   "outputs": [
    {
     "name": "stdout",
     "output_type": "stream",
     "text": [
      "[20, 15, 215, 2, 19]\n"
     ]
    }
   ],
   "source": [
    "import collections\n",
    "\n",
    "clusters = collections.defaultdict(list)\n",
    "for x in usersWithCluster:\n",
    "    clusters[x[1]].append(x[0])\n",
    "clusters = dict(clusters)\n",
    "print([len(j) for i,j in clusters.items()])"
   ]
  },
  {
   "cell_type": "code",
   "execution_count": 14,
   "metadata": {},
   "outputs": [
    {
     "data": {
      "image/png": "[encoded data removed]",
      "text/plain": [
       "<Figure size 432x288 with 1 Axes>"
      ]
     },
     "metadata": {
      "needs_background": "light"
     },
     "output_type": "display_data"
    }
   ],
   "source": [
    "import matplotlib.pyplot as plt\n",
    "import networkx as nx\n",
    "\n",
    "colors = ['r', 'b', 'y', 'g', 'c', 'black', 'm', 'orange', 'grey', '']\n",
    "\n",
    "def show_graph(adjacency_matrix):\n",
    "    rows, cols = np.where(adjacency_matrix == 1)\n",
    "    edges = zip(rows.tolist(), cols.tolist())\n",
    "    #print([x for x in edges])\n",
    "    gr = nx.Graph()\n",
    "    gr.add_edges_from(edges)\n",
    "    #gr[0][1]['color'] = 'color'\n",
    "    \n",
    "    #nx.draw(gr, node_size=1)\n",
    "    pos=nx.spring_layout(gr) \n",
    "    for i in range(5):\n",
    "        nx.draw_networkx_nodes(gr,pos,nodelist = clusters[i], node_size=1, node_color=colors[i])\n",
    "    #nx.draw_networkx_nodes(gr,pos,nodelist = clusters[1], node_size=1, node_color=colors[1])\n",
    "    \n",
    "    #nx.draw_networkx_edges(gr,pos,\n",
    "    #                   width=1,alpha=0.5,edge_color='r')\n",
    "    plt.show()\n",
    "    \n",
    "show_graph(matrix)\n"
   ]
  },
  {
   "cell_type": "code",
   "execution_count": 135,
   "metadata": {},
   "outputs": [
    {
     "data": {
      "image/png": "[encoded data removed]",
      "text/plain": [
       "<Figure size 432x288 with 1 Axes>"
      ]
     },
     "metadata": {},
     "output_type": "display_data"
    }
   ],
   "source": [
    "import matplotlib.pyplot as plt\n",
    "import networkx as nx\n",
    "\n",
    "def show_graph(adjacency_matrix):\n",
    "    rows, cols = np.where(adjacency_matrix == 1)\n",
    "    edges = zip(rows.tolist(), cols.tolist())\n",
    "    gr = nx.Graph()\n",
    "    gr.add_edges_from(edges)\n",
    "    \n",
    "    nx.draw(gr, node_size=1)\n",
    "    plt.show()\n",
    "    \n",
    "show_graph(matrix)"
   ]
  },
  {
   "cell_type": "code",
   "execution_count": null,
   "metadata": {},
   "outputs": [],
   "source": []
  }
 ],
 "metadata": {
  "kernelspec": {
   "display_name": "Python 3",
   "language": "python",
   "name": "python3"
  },
  "language_info": {
   "codemirror_mode": {
    "name": "ipython",
    "version": 3
   },
   "file_extension": ".py",
   "mimetype": "text/x-python",
   "name": "python",
   "nbconvert_exporter": "python",
   "pygments_lexer": "ipython3",
   "version": "3.6.6"
  }
 },
 "nbformat": 4,
 "nbformat_minor": 2
}
