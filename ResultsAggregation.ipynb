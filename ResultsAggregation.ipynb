{
 "cells": [
  {
   "cell_type": "code",
   "execution_count": 98,
   "metadata": {},
   "outputs": [
    {
     "name": "stdout",
     "output_type": "stream",
     "text": [
      "{'pageType': 'story', 'storyLink': '/s/6735812/162/The-Spirit-of-Redemption', 'author': '/u/2720337/Myetel', 'title': 'The Spirit of Redemption Chapter 162: Update: Leaves Across the Face of Time, a mass effect fanfic | FanFiction', 'storyType': '/game/Mass-Effect/', 'abstract': 'The Spectres fight against threats to both the galaxy and their families on Mindoir. Shepard/Garrus, multiple OCs, largely expanded universe. Includes Redemption, Hunt, Unity, and Victory.', 'rating': 'Fiction  M', 'otherInfo': {'language': 'English', 'genre': ['Adventure', 'Sci'], 'favorites': '796', 'follows': '453', 'reviews': 0, 'words': '3,404,794', 'chapters': '162'}, 'date': '2018-10-16 08:24', 'characters': {'ron': 100, 'bellatrix': 1, 'tina': 1}}\n"
     ]
    }
   ],
   "source": [
    "import json\n",
    "import string\n",
    "with open('fanficResult.json') as f:\n",
    "    stories = [x for x in json.load(f)['entities'] if str(x['pageType']) == \"story\"]\n",
    "    #print(stories[0]['otherInfo'])\n",
    "    #table = str.maketrans(\"\", \"\", string.punctuation)\n",
    "    #print([int(str(x['otherInfo']['words']).replace(',', '')) for x in stories])\n",
    "    print(max(stories, key=lambda x: int(str(x['otherInfo']['words']).replace(',', ''))))"
   ]
  },
  {
   "cell_type": "code",
   "execution_count": null,
   "metadata": {},
   "outputs": [],
   "source": [
    "()"
   ]
  }
 ],
 "metadata": {
  "kernelspec": {
   "display_name": "Python 3",
   "language": "python",
   "name": "python3"
  },
  "language_info": {
   "codemirror_mode": {
    "name": "ipython",
    "version": 3
   },
   "file_extension": ".py",
   "mimetype": "text/x-python",
   "name": "python",
   "nbconvert_exporter": "python",
   "pygments_lexer": "ipython3",
   "version": "3.6.6"
  }
 },
 "nbformat": 4,
 "nbformat_minor": 2
}
