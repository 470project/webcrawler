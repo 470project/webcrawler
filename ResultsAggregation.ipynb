{
 "cells": [
  {
   "cell_type": "code",
   "execution_count": 104,
   "metadata": {},
   "outputs": [
    {
     "name": "stdout",
     "output_type": "stream",
     "text": [
      "{'pageType': 'story', 'storyLink': '/s/11123626/1/Making-Lemonade', 'author': '/u/2237212/Dayja', 'title': 'Making Lemonade Chapter 1: Pre-Hogwarts, a harry potter fanfic | FanFiction', 'storyType': '/book/Harry-Potter/', 'abstract': \"Life has given Harry a lot of lemons: dead parents, a cupboard under the stairs, horrible clothes, Harry Hunting. The result should have been a downtrodden, sad little boy. It isn't.\", 'rating': 'Fiction  K+', 'otherInfo': {'language': '', 'genre': '', 'favorites': '978', 'follows': '1', 'reviews': '191', 'words': '17,614', 'chapters': '4'}, 'date': '2018-10-16 47:53', 'characters': {'harry': 112, 'ron': 3}}\n"
     ]
    }
   ],
   "source": [
    "import json\n",
    "import string\n",
    "import matplotlib.pyplot as plt \n",
    "\n",
    "with open('fanficResult1.json') as f:\n",
    "    stories = [x for x in json.load(f)['entities'] if str(x['pageType']) == \"story\"]\n",
    "    #print(stories[0]['otherInfo'])\n",
    "    #table = str.maketrans(\"\", \"\", string.punctuation)\n",
    "    #print([int(str(x['otherInfo']['words']).replace(',', '')) for x in stories])\n",
    "    print(max(stories, key=lambda x: int(str(x['otherInfo']['favorites']).replace(',', ''))))\n",
    "    favorites = [int(str(x['otherInfo']['favorites'])) for x in stories]\n",
    "    \n",
    "    #print(max(stories, key=lambda x: int(str(x['otherInfo']['words']).replace(',', ''))))"
   ]
  },
  {
   "cell_type": "code",
   "execution_count": 110,
   "metadata": {},
   "outputs": [
    {
     "data": {
      "image/png": "[encoded data removed]",
      "text/plain": [
       "<Figure size 432x288 with 1 Axes>"
      ]
     },
     "metadata": {},
     "output_type": "display_data"
    }
   ],
   "source": [
    "sortedFavorites = sorted(favorites, reverse = True)\n",
    "ranks = [x+1 for x in range(len(sortedFavorites))] \n",
    "fig = plt.figure()\n",
    "ax = fig.add_subplot(2, 1, 1)\n",
    "ax.plot(sortedFavorites, color='blue', lw=2)\n",
    "plt.show()"
   ]
  }
 ],
 "metadata": {
  "kernelspec": {
   "display_name": "Python 3",
   "language": "python",
   "name": "python3"
  },
  "language_info": {
   "codemirror_mode": {
    "name": "ipython",
    "version": 3
   },
   "file_extension": ".py",
   "mimetype": "text/x-python",
   "name": "python",
   "nbconvert_exporter": "python",
   "pygments_lexer": "ipython3",
   "version": "3.6.6"
  }
 },
 "nbformat": 4,
 "nbformat_minor": 2
}
