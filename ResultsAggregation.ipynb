{
 "cells": [
  {
   "cell_type": "code",
   "execution_count": 3,
   "metadata": {},
   "outputs": [
    {
     "name": "stdout",
     "output_type": "stream",
     "text": [
      "280867 2219515 87388\n"
     ]
    }
   ],
   "source": [
    "import json\n",
    "import string\n",
    "import matplotlib.pyplot as plt \n",
    "import json_lines\n",
    "\n",
    "with open('result.jl', 'rb') as f:\n",
    "    entities = [x for x in json_lines.reader(f)]\n",
    "    stories = [x for x in entities if str(x['pageType']) == \"story\"]\n",
    "    reviews = [x for x in entities if str(x['pageType']) == \"review\"]\n",
    "    users = [x for x in entities if str(x['pageType']) == \"user\"]\n",
    "    \n",
    "    print(len(stories),len(reviews),len(users))\n",
    "    #print(max(stories, key=lambda x: int(str(x['otherInfo']['favorites']).replace(',', ''))))\n",
    "    #favorites = [int(str(x['otherInfo']['favorites'])) for x in stories]\n",
    "    \n",
    "    #print(max(stories, key=lambda x: int(str(x['otherInfo']['words']).replace(',', ''))))"
   ]
  },
  {
   "cell_type": "code",
   "execution_count": 2,
   "metadata": {},
   "outputs": [
    {
     "ename": "NameError",
     "evalue": "name 'favorites' is not defined",
     "output_type": "error",
     "traceback": [
      "\u001b[1;31m---------------------------------------------------------------------------\u001b[0m",
      "\u001b[1;31mNameError\u001b[0m                                 Traceback (most recent call last)",
      "\u001b[1;32m<ipython-input-2-407972e69c69>\u001b[0m in \u001b[0;36m<module>\u001b[1;34m\u001b[0m\n\u001b[1;32m----> 1\u001b[1;33m \u001b[0msortedFavorites\u001b[0m \u001b[1;33m=\u001b[0m \u001b[0msorted\u001b[0m\u001b[1;33m(\u001b[0m\u001b[0mfavorites\u001b[0m\u001b[1;33m,\u001b[0m \u001b[0mreverse\u001b[0m \u001b[1;33m=\u001b[0m \u001b[1;32mTrue\u001b[0m\u001b[1;33m)\u001b[0m\u001b[1;33m\u001b[0m\u001b[0m\n\u001b[0m\u001b[0;32m      2\u001b[0m \u001b[0mranks\u001b[0m \u001b[1;33m=\u001b[0m \u001b[1;33m[\u001b[0m\u001b[0mx\u001b[0m\u001b[1;33m+\u001b[0m\u001b[1;36m1\u001b[0m \u001b[1;32mfor\u001b[0m \u001b[0mx\u001b[0m \u001b[1;32min\u001b[0m \u001b[0mrange\u001b[0m\u001b[1;33m(\u001b[0m\u001b[0mlen\u001b[0m\u001b[1;33m(\u001b[0m\u001b[0msortedFavorites\u001b[0m\u001b[1;33m)\u001b[0m\u001b[1;33m)\u001b[0m\u001b[1;33m]\u001b[0m\u001b[1;33m\u001b[0m\u001b[0m\n\u001b[0;32m      3\u001b[0m \u001b[0mfig\u001b[0m \u001b[1;33m=\u001b[0m \u001b[0mplt\u001b[0m\u001b[1;33m.\u001b[0m\u001b[0mfigure\u001b[0m\u001b[1;33m(\u001b[0m\u001b[1;33m)\u001b[0m\u001b[1;33m\u001b[0m\u001b[0m\n\u001b[0;32m      4\u001b[0m \u001b[0max\u001b[0m \u001b[1;33m=\u001b[0m \u001b[0mfig\u001b[0m\u001b[1;33m.\u001b[0m\u001b[0madd_subplot\u001b[0m\u001b[1;33m(\u001b[0m\u001b[1;36m2\u001b[0m\u001b[1;33m,\u001b[0m \u001b[1;36m1\u001b[0m\u001b[1;33m,\u001b[0m \u001b[1;36m1\u001b[0m\u001b[1;33m)\u001b[0m\u001b[1;33m\u001b[0m\u001b[0m\n\u001b[0;32m      5\u001b[0m \u001b[0max\u001b[0m\u001b[1;33m.\u001b[0m\u001b[0mplot\u001b[0m\u001b[1;33m(\u001b[0m\u001b[0msortedFavorites\u001b[0m\u001b[1;33m,\u001b[0m \u001b[0mcolor\u001b[0m\u001b[1;33m=\u001b[0m\u001b[1;34m'blue'\u001b[0m\u001b[1;33m,\u001b[0m \u001b[0mlw\u001b[0m\u001b[1;33m=\u001b[0m\u001b[1;36m2\u001b[0m\u001b[1;33m)\u001b[0m\u001b[1;33m\u001b[0m\u001b[0m\n",
      "\u001b[1;31mNameError\u001b[0m: name 'favorites' is not defined"
     ]
    }
   ],
   "source": [
    "sortedFavorites = sorted(favorites, reverse = True)\n",
    "ranks = [x+1 for x in range(len(sortedFavorites))] \n",
    "fig = plt.figure()\n",
    "ax = fig.add_subplot(2, 1, 1)\n",
    "ax.plot(sortedFavorites, color='blue', lw=2)\n",
    "plt.show()"
   ]
  },
  {
   "cell_type": "code",
   "execution_count": 4,
   "metadata": {},
   "outputs": [
    {
     "data": {
      "text/plain": [
       "[<matplotlib.lines.Line2D at 0x1c22b0d3ac8>]"
      ]
     },
     "execution_count": 4,
     "metadata": {},
     "output_type": "execute_result"
    },
    {
     "data": {
      "image/png": "[encoded data removed]",
      "text/plain": [
       "<Figure size 432x288 with 1 Axes>"
      ]
     },
     "metadata": {
      "needs_background": "light"
     },
     "output_type": "display_data"
    }
   ],
   "source": [
    "import operator\n",
    "storyReviewDic = {}\n",
    "for review in reviews:\n",
    "    if(review['reviewOf'] not in storyReviewDic):\n",
    "        storyReviewDic[review['reviewOf']] = []\n",
    "    storyReviewDic[review['reviewOf']].append(review)\n",
    "\n",
    "storySentimentScores = [sum([z['sentimentScore'] for z in y]) for x, y in storyReviewDic.items()]\n",
    "\n",
    "buckets = {}\n",
    "\n",
    "def updateBucket(x):\n",
    "    buckets.setdefault(x, 0)\n",
    "    buckets[x]+=1\n",
    "\n",
    "[ updateBucket(int(x)) for x in storySentimentScores]\n",
    "\n",
    "sortedBuckets = sorted(buckets.items(), key=operator.itemgetter(0))\n",
    "\n",
    "fig = plt.figure()\n",
    "ax = fig.add_subplot(2, 1, 1)\n",
    "ax.plot([x for x,y in sortedBuckets], [y for x,y in sortedBuckets], color='blue', lw=2)\n",
    "\n",
    "#print(sum(storySentimentScore)/ len(storySentimentScore))"
   ]
  },
  {
   "cell_type": "code",
   "execution_count": 10,
   "metadata": {},
   "outputs": [
    {
     "data": {
      "text/plain": [
       "9.186804741777618"
      ]
     },
     "execution_count": 10,
     "metadata": {},
     "output_type": "execute_result"
    }
   ],
   "source": [
    "sum(storySentimentScores)/len(storySentimentScores)"
   ]
  },
  {
   "cell_type": "code",
   "execution_count": 11,
   "metadata": {},
   "outputs": [
    {
     "name": "stdout",
     "output_type": "stream",
     "text": [
      "-10 6\n",
      "-9 18\n",
      "-8 39\n",
      "-7 37\n",
      "-6 58\n",
      "-5 90\n",
      "-4 166\n",
      "-3 300\n",
      "-2 656\n",
      "-1 1235\n",
      "0 14865\n",
      "1 9591\n",
      "2 9022\n",
      "3 8977\n",
      "4 9220\n",
      "5 9545\n",
      "6 10200\n",
      "7 10597\n",
      "8 11017\n",
      "9 11012\n",
      "10 10622\n",
      "11 10302\n",
      "12 9353\n",
      "13 8486\n",
      "14 7498\n",
      "15 6449\n",
      "16 5352\n",
      "17 4277\n",
      "18 3525\n",
      "19 2781\n",
      "20 2161\n",
      "21 1652\n",
      "22 1331\n",
      "23 973\n",
      "24 685\n",
      "25 573\n",
      "26 434\n",
      "27 331\n",
      "28 256\n",
      "29 204\n"
     ]
    }
   ],
   "source": [
    "#print(buckets)\n",
    "\n",
    "for i in range(-10, 30):\n",
    "    print(i, buckets[i])\n"
   ]
  },
  {
   "cell_type": "code",
   "execution_count": 13,
   "metadata": {},
   "outputs": [
    {
     "ename": "MemoryError",
     "evalue": "",
     "output_type": "error",
     "traceback": [
      "\u001b[1;31m---------------------------------------------------------------------------\u001b[0m",
      "\u001b[1;31mMemoryError\u001b[0m                               Traceback (most recent call last)",
      "\u001b[1;32m<ipython-input-13-dbbee497b7ce>\u001b[0m in \u001b[0;36m<module>\u001b[1;34m\u001b[0m\n\u001b[0;32m     25\u001b[0m                 \u001b[0muserFavorites\u001b[0m\u001b[1;33m[\u001b[0m\u001b[0muserId\u001b[0m\u001b[1;33m]\u001b[0m\u001b[1;33m.\u001b[0m\u001b[0mappend\u001b[0m\u001b[1;33m(\u001b[0m\u001b[0mautherId\u001b[0m\u001b[1;33m)\u001b[0m\u001b[1;33m\u001b[0m\u001b[0m\n\u001b[0;32m     26\u001b[0m \u001b[1;33m\u001b[0m\u001b[0m\n\u001b[1;32m---> 27\u001b[1;33m \u001b[0mmatrix\u001b[0m \u001b[1;33m=\u001b[0m \u001b[0mnp\u001b[0m\u001b[1;33m.\u001b[0m\u001b[0mzeros\u001b[0m\u001b[1;33m(\u001b[0m\u001b[1;33m[\u001b[0m\u001b[0mlen\u001b[0m\u001b[1;33m(\u001b[0m\u001b[0midDict\u001b[0m\u001b[1;33m)\u001b[0m\u001b[1;33m,\u001b[0m \u001b[0mlen\u001b[0m\u001b[1;33m(\u001b[0m\u001b[0midDict\u001b[0m\u001b[1;33m)\u001b[0m\u001b[1;33m]\u001b[0m\u001b[1;33m)\u001b[0m\u001b[1;33m\u001b[0m\u001b[0m\n\u001b[0m\u001b[0;32m     28\u001b[0m \u001b[1;33m\u001b[0m\u001b[0m\n\u001b[0;32m     29\u001b[0m \u001b[1;32mfor\u001b[0m \u001b[0muserId\u001b[0m\u001b[1;33m,\u001b[0m \u001b[0mfavorites\u001b[0m \u001b[1;32min\u001b[0m \u001b[0muserFavorites\u001b[0m\u001b[1;33m.\u001b[0m\u001b[0mitems\u001b[0m\u001b[1;33m(\u001b[0m\u001b[1;33m)\u001b[0m\u001b[1;33m:\u001b[0m\u001b[1;33m\u001b[0m\u001b[0m\n",
      "\u001b[1;31mMemoryError\u001b[0m: "
     ]
    }
   ],
   "source": [
    "import numpy as np\n",
    "\n",
    "\n",
    "\n",
    "idDict = {}\n",
    "idCnt = 0\n",
    "\n",
    "for x in users:\n",
    "    if(x['name'] in idDict):\n",
    "        continue;\n",
    "    idDict[idCnt] = x['name']\n",
    "    idCnt += 1\n",
    "\n",
    "nameToIdDict = {v: k for k, v in idDict.items()}\n",
    "\n",
    "userFavorites = {}\n",
    "for user in users:\n",
    "    userId = nameToIdDict[user['name']]\n",
    "    userFavorites[userId] = []\n",
    "    for favorite in user['favorites']:\n",
    "        auther = favorite['favAuthor']\n",
    "        if(auther in nameToIdDict):\n",
    "            autherId = nameToIdDict[auther]\n",
    "            if(autherId not in userFavorites[userId]):\n",
    "                userFavorites[userId].append(autherId)\n",
    "                \n",
    "matrix = np.zeros([len(idDict), len(idDict)])\n",
    "\n",
    "for userId, favorites in userFavorites.items():\n",
    "    for favId in favorites:\n",
    "        matrix[userId, favId] = 1\n",
    "        \n",
    "print(matrix)\n",
    "    \n"
   ]
  },
  {
   "cell_type": "code",
   "execution_count": 33,
   "metadata": {},
   "outputs": [
    {
     "name": "stderr",
     "output_type": "stream",
     "text": [
      "C:\\Users\\12r45\\Anaconda3\\envs\\cs470\\lib\\site-packages\\networkx\\drawing\\nx_pylab.py:611: MatplotlibDeprecationWarning: isinstance(..., numbers.Number)\n",
      "  if cb.is_numlike(alpha):\n"
     ]
    },
    {
     "data": {
      "image/png": "[encoded data removed]",
      "text/plain": [
       "<Figure size 432x288 with 1 Axes>"
      ]
     },
     "metadata": {},
     "output_type": "display_data"
    }
   ],
   "source": [
    "import matplotlib.pyplot as plt\n",
    "import networkx as nx\n",
    "\n",
    "def show_graph(adjacency_matrix):\n",
    "    rows, cols = np.where(adjacency_matrix == 1)\n",
    "    edges = zip(rows.tolist(), cols.tolist())\n",
    "    gr = nx.Graph()\n",
    "    gr.add_edges_from(edges)\n",
    "    nx.draw(gr, node_size=1)\n",
    "    plt.show()\n",
    "    \n",
    "show_graph(matrix)\n"
   ]
  }
 ],
 "metadata": {
  "kernelspec": {
   "display_name": "Python 3",
   "language": "python",
   "name": "python3"
  },
  "language_info": {
   "codemirror_mode": {
    "name": "ipython",
    "version": 3
   },
   "file_extension": ".py",
   "mimetype": "text/x-python",
   "name": "python",
   "nbconvert_exporter": "python",
   "pygments_lexer": "ipython3",
   "version": "3.6.6"
  }
 },
 "nbformat": 4,
 "nbformat_minor": 2
}
